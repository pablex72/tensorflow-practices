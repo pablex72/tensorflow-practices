{
  "nbformat": 4,
  "nbformat_minor": 0,
  "metadata": {
    "colab": {
      "provenance": [],
      "authorship_tag": "ABX9TyMTCqzKkkXo17lq6kuDIduP",
      "include_colab_link": true
    },
    "kernelspec": {
      "name": "python3",
      "display_name": "Python 3"
    },
    "language_info": {
      "name": "python"
    }
  },
  "cells": [
    {
      "cell_type": "markdown",
      "metadata": {
        "id": "view-in-github",
        "colab_type": "text"
      },
      "source": [
        "<a href=\"https://colab.research.google.com/github/pablex72/tensorflow-practices/blob/main/Forecasting_the_stock_market_using_LSTM.ipynb\" target=\"_parent\"><img src=\"https://colab.research.google.com/assets/colab-badge.svg\" alt=\"Open In Colab\"/></a>"
      ]
    },
    {
      "cell_type": "markdown",
      "source": [
        "Using a machine learning model, this tutorial will predict a stock’s future value in real time with high accuracy on a stock exchange"
      ],
      "metadata": {
        "id": "jitdCjB3JWbB"
      }
    },
    {
      "cell_type": "markdown",
      "source": [
        "To predict if the stock price will rise or fall tomorrow, we will use Google stock data as a time series. The data will be obtained from the Yfinance API."
      ],
      "metadata": {
        "id": "UKndm_b0JbHC"
      }
    },
    {
      "cell_type": "markdown",
      "source": [
        "**IMPORT**"
      ],
      "metadata": {
        "id": "cLu82T-cJiMu"
      }
    },
    {
      "cell_type": "code",
      "source": [
        "!pip install yfinance\n",
        "import yfinance"
      ],
      "metadata": {
        "colab": {
          "base_uri": "https://localhost:8080/"
        },
        "id": "_0GV4otbZJaW",
        "outputId": "88041048-b054-4122-de85-83a686ea30e2"
      },
      "execution_count": 3,
      "outputs": [
        {
          "output_type": "stream",
          "name": "stdout",
          "text": [
            "Looking in indexes: https://pypi.org/simple, https://us-python.pkg.dev/colab-wheels/public/simple/\n",
            "Collecting yfinance\n",
            "  Downloading yfinance-0.2.12-py2.py3-none-any.whl (59 kB)\n",
            "\u001b[2K     \u001b[90m━━━━━━━━━━━━━━━━━━━━━━━━━━━━━━━━━━━━━━━━\u001b[0m \u001b[32m59.2/59.2 KB\u001b[0m \u001b[31m2.8 MB/s\u001b[0m eta \u001b[36m0:00:00\u001b[0m\n",
            "\u001b[?25hCollecting frozendict>=2.3.4\n",
            "  Downloading frozendict-2.3.5-cp39-cp39-manylinux_2_17_x86_64.manylinux2014_x86_64.whl (112 kB)\n",
            "\u001b[2K     \u001b[90m━━━━━━━━━━━━━━━━━━━━━━━━━━━━━━━━━━━━━━━\u001b[0m \u001b[32m112.8/112.8 KB\u001b[0m \u001b[31m5.7 MB/s\u001b[0m eta \u001b[36m0:00:00\u001b[0m\n",
            "\u001b[?25hRequirement already satisfied: lxml>=4.9.1 in /usr/local/lib/python3.9/dist-packages (from yfinance) (4.9.2)\n",
            "Collecting beautifulsoup4>=4.11.1\n",
            "  Downloading beautifulsoup4-4.11.2-py3-none-any.whl (129 kB)\n",
            "\u001b[2K     \u001b[90m━━━━━━━━━━━━━━━━━━━━━━━━━━━━━━━━━━━━━━\u001b[0m \u001b[32m129.4/129.4 KB\u001b[0m \u001b[31m12.4 MB/s\u001b[0m eta \u001b[36m0:00:00\u001b[0m\n",
            "\u001b[?25hCollecting html5lib>=1.1\n",
            "  Downloading html5lib-1.1-py2.py3-none-any.whl (112 kB)\n",
            "\u001b[2K     \u001b[90m━━━━━━━━━━━━━━━━━━━━━━━━━━━━━━━━━━━━━━\u001b[0m \u001b[32m112.2/112.2 KB\u001b[0m \u001b[31m10.4 MB/s\u001b[0m eta \u001b[36m0:00:00\u001b[0m\n",
            "\u001b[?25hRequirement already satisfied: pandas>=1.3.0 in /usr/local/lib/python3.9/dist-packages (from yfinance) (1.4.4)\n",
            "Requirement already satisfied: multitasking>=0.0.7 in /usr/local/lib/python3.9/dist-packages (from yfinance) (0.0.11)\n",
            "Requirement already satisfied: pytz>=2022.5 in /usr/local/lib/python3.9/dist-packages (from yfinance) (2022.7.1)\n",
            "Collecting cryptography>=3.3.2\n",
            "  Downloading cryptography-39.0.2-cp36-abi3-manylinux_2_28_x86_64.whl (4.2 MB)\n",
            "\u001b[2K     \u001b[90m━━━━━━━━━━━━━━━━━━━━━━━━━━━━━━━━━━━━━━━━\u001b[0m \u001b[32m4.2/4.2 MB\u001b[0m \u001b[31m43.0 MB/s\u001b[0m eta \u001b[36m0:00:00\u001b[0m\n",
            "\u001b[?25hCollecting requests>=2.26\n",
            "  Downloading requests-2.28.2-py3-none-any.whl (62 kB)\n",
            "\u001b[2K     \u001b[90m━━━━━━━━━━━━━━━━━━━━━━━━━━━━━━━━━━━━━━━━\u001b[0m \u001b[32m62.8/62.8 KB\u001b[0m \u001b[31m4.1 MB/s\u001b[0m eta \u001b[36m0:00:00\u001b[0m\n",
            "\u001b[?25hCollecting appdirs>=1.4.4\n",
            "  Downloading appdirs-1.4.4-py2.py3-none-any.whl (9.6 kB)\n",
            "Requirement already satisfied: numpy>=1.16.5 in /usr/local/lib/python3.9/dist-packages (from yfinance) (1.22.4)\n",
            "Requirement already satisfied: soupsieve>1.2 in /usr/local/lib/python3.9/dist-packages (from beautifulsoup4>=4.11.1->yfinance) (2.4)\n",
            "Requirement already satisfied: cffi>=1.12 in /usr/local/lib/python3.9/dist-packages (from cryptography>=3.3.2->yfinance) (1.15.1)\n",
            "Requirement already satisfied: six>=1.9 in /usr/local/lib/python3.9/dist-packages (from html5lib>=1.1->yfinance) (1.15.0)\n",
            "Requirement already satisfied: webencodings in /usr/local/lib/python3.9/dist-packages (from html5lib>=1.1->yfinance) (0.5.1)\n",
            "Requirement already satisfied: python-dateutil>=2.8.1 in /usr/local/lib/python3.9/dist-packages (from pandas>=1.3.0->yfinance) (2.8.2)\n",
            "Collecting charset-normalizer<4,>=2\n",
            "  Downloading charset_normalizer-3.1.0-cp39-cp39-manylinux_2_17_x86_64.manylinux2014_x86_64.whl (199 kB)\n",
            "\u001b[2K     \u001b[90m━━━━━━━━━━━━━━━━━━━━━━━━━━━━━━━━━━━━━━\u001b[0m \u001b[32m199.2/199.2 KB\u001b[0m \u001b[31m14.8 MB/s\u001b[0m eta \u001b[36m0:00:00\u001b[0m\n",
            "\u001b[?25hRequirement already satisfied: urllib3<1.27,>=1.21.1 in /usr/local/lib/python3.9/dist-packages (from requests>=2.26->yfinance) (1.26.15)\n",
            "Requirement already satisfied: idna<4,>=2.5 in /usr/local/lib/python3.9/dist-packages (from requests>=2.26->yfinance) (2.10)\n",
            "Requirement already satisfied: certifi>=2017.4.17 in /usr/local/lib/python3.9/dist-packages (from requests>=2.26->yfinance) (2022.12.7)\n",
            "Requirement already satisfied: pycparser in /usr/local/lib/python3.9/dist-packages (from cffi>=1.12->cryptography>=3.3.2->yfinance) (2.21)\n",
            "Installing collected packages: appdirs, html5lib, frozendict, charset-normalizer, beautifulsoup4, requests, cryptography, yfinance\n",
            "  Attempting uninstall: html5lib\n",
            "    Found existing installation: html5lib 1.0.1\n",
            "    Uninstalling html5lib-1.0.1:\n",
            "      Successfully uninstalled html5lib-1.0.1\n",
            "  Attempting uninstall: beautifulsoup4\n",
            "    Found existing installation: beautifulsoup4 4.9.3\n",
            "    Uninstalling beautifulsoup4-4.9.3:\n",
            "      Successfully uninstalled beautifulsoup4-4.9.3\n",
            "  Attempting uninstall: requests\n",
            "    Found existing installation: requests 2.25.1\n",
            "    Uninstalling requests-2.25.1:\n",
            "      Successfully uninstalled requests-2.25.1\n",
            "Successfully installed appdirs-1.4.4 beautifulsoup4-4.11.2 charset-normalizer-3.1.0 cryptography-39.0.2 frozendict-2.3.5 html5lib-1.1 requests-2.28.2 yfinance-0.2.12\n"
          ]
        }
      ]
    },
    {
      "cell_type": "code",
      "execution_count": 4,
      "metadata": {
        "id": "rbiOEv4H6gKE"
      },
      "outputs": [],
      "source": [
        "import numpy as np\n",
        "import pandas as pd\n",
        "import tensorflow as tf\n",
        "import matplotlib.pyplot as plt"
      ]
    },
    {
      "cell_type": "markdown",
      "source": [
        "Using the Yfinance API, download Google stock data\n",
        "\n"
      ],
      "metadata": {
        "id": "VY_X6QbVJ8m4"
      }
    },
    {
      "cell_type": "code",
      "source": [
        "data = yfinance.download(\"GOOGL\", start = \"2019-01-01\", interval = '1d')\n",
        "data"
      ],
      "metadata": {
        "colab": {
          "base_uri": "https://localhost:8080/",
          "height": 473
        },
        "id": "xoOI5XheZ_-r",
        "outputId": "9925f046-0607-4d33-c36f-f668ea0a8b88"
      },
      "execution_count": 8,
      "outputs": [
        {
          "output_type": "stream",
          "name": "stdout",
          "text": [
            "\r[*********************100%***********************]  1 of 1 completed\n"
          ]
        },
        {
          "output_type": "execute_result",
          "data": {
            "text/plain": [
              "                 Open       High        Low      Close  Adj Close    Volume\n",
              "Date                                                                       \n",
              "2019-01-02  51.360001  53.039501  51.264000  52.734001  52.734001  31868000\n",
              "2019-01-03  52.533501  53.313000  51.118500  51.273499  51.273499  41960000\n",
              "2019-01-04  52.127998  54.000000  51.842999  53.903500  53.903500  46022000\n",
              "2019-01-07  54.048500  54.134998  53.132000  53.796001  53.796001  47446000\n",
              "2019-01-08  54.299999  54.667500  53.417500  54.268501  54.268501  35414000\n",
              "...               ...        ...        ...        ...        ...       ...\n",
              "2023-03-09  94.050003  95.529999  91.900002  92.320000  92.320000  28813500\n",
              "2023-03-10  92.169998  92.790001  90.400002  90.629997  90.629997  35927000\n",
              "2023-03-13  90.089996  92.570000  89.419998  91.110001  91.110001  37335600\n",
              "2023-03-14  92.559998  94.360001  92.440002  93.970001  93.970001  36030100\n",
              "2023-03-15  93.220001  96.070000  92.639999  95.879997  95.879997  23751189\n",
              "\n",
              "[1058 rows x 6 columns]"
            ],
            "text/html": [
              "\n",
              "  <div id=\"df-004b44c5-5de2-45cc-9610-f1708e40a4c8\">\n",
              "    <div class=\"colab-df-container\">\n",
              "      <div>\n",
              "<style scoped>\n",
              "    .dataframe tbody tr th:only-of-type {\n",
              "        vertical-align: middle;\n",
              "    }\n",
              "\n",
              "    .dataframe tbody tr th {\n",
              "        vertical-align: top;\n",
              "    }\n",
              "\n",
              "    .dataframe thead th {\n",
              "        text-align: right;\n",
              "    }\n",
              "</style>\n",
              "<table border=\"1\" class=\"dataframe\">\n",
              "  <thead>\n",
              "    <tr style=\"text-align: right;\">\n",
              "      <th></th>\n",
              "      <th>Open</th>\n",
              "      <th>High</th>\n",
              "      <th>Low</th>\n",
              "      <th>Close</th>\n",
              "      <th>Adj Close</th>\n",
              "      <th>Volume</th>\n",
              "    </tr>\n",
              "    <tr>\n",
              "      <th>Date</th>\n",
              "      <th></th>\n",
              "      <th></th>\n",
              "      <th></th>\n",
              "      <th></th>\n",
              "      <th></th>\n",
              "      <th></th>\n",
              "    </tr>\n",
              "  </thead>\n",
              "  <tbody>\n",
              "    <tr>\n",
              "      <th>2019-01-02</th>\n",
              "      <td>51.360001</td>\n",
              "      <td>53.039501</td>\n",
              "      <td>51.264000</td>\n",
              "      <td>52.734001</td>\n",
              "      <td>52.734001</td>\n",
              "      <td>31868000</td>\n",
              "    </tr>\n",
              "    <tr>\n",
              "      <th>2019-01-03</th>\n",
              "      <td>52.533501</td>\n",
              "      <td>53.313000</td>\n",
              "      <td>51.118500</td>\n",
              "      <td>51.273499</td>\n",
              "      <td>51.273499</td>\n",
              "      <td>41960000</td>\n",
              "    </tr>\n",
              "    <tr>\n",
              "      <th>2019-01-04</th>\n",
              "      <td>52.127998</td>\n",
              "      <td>54.000000</td>\n",
              "      <td>51.842999</td>\n",
              "      <td>53.903500</td>\n",
              "      <td>53.903500</td>\n",
              "      <td>46022000</td>\n",
              "    </tr>\n",
              "    <tr>\n",
              "      <th>2019-01-07</th>\n",
              "      <td>54.048500</td>\n",
              "      <td>54.134998</td>\n",
              "      <td>53.132000</td>\n",
              "      <td>53.796001</td>\n",
              "      <td>53.796001</td>\n",
              "      <td>47446000</td>\n",
              "    </tr>\n",
              "    <tr>\n",
              "      <th>2019-01-08</th>\n",
              "      <td>54.299999</td>\n",
              "      <td>54.667500</td>\n",
              "      <td>53.417500</td>\n",
              "      <td>54.268501</td>\n",
              "      <td>54.268501</td>\n",
              "      <td>35414000</td>\n",
              "    </tr>\n",
              "    <tr>\n",
              "      <th>...</th>\n",
              "      <td>...</td>\n",
              "      <td>...</td>\n",
              "      <td>...</td>\n",
              "      <td>...</td>\n",
              "      <td>...</td>\n",
              "      <td>...</td>\n",
              "    </tr>\n",
              "    <tr>\n",
              "      <th>2023-03-09</th>\n",
              "      <td>94.050003</td>\n",
              "      <td>95.529999</td>\n",
              "      <td>91.900002</td>\n",
              "      <td>92.320000</td>\n",
              "      <td>92.320000</td>\n",
              "      <td>28813500</td>\n",
              "    </tr>\n",
              "    <tr>\n",
              "      <th>2023-03-10</th>\n",
              "      <td>92.169998</td>\n",
              "      <td>92.790001</td>\n",
              "      <td>90.400002</td>\n",
              "      <td>90.629997</td>\n",
              "      <td>90.629997</td>\n",
              "      <td>35927000</td>\n",
              "    </tr>\n",
              "    <tr>\n",
              "      <th>2023-03-13</th>\n",
              "      <td>90.089996</td>\n",
              "      <td>92.570000</td>\n",
              "      <td>89.419998</td>\n",
              "      <td>91.110001</td>\n",
              "      <td>91.110001</td>\n",
              "      <td>37335600</td>\n",
              "    </tr>\n",
              "    <tr>\n",
              "      <th>2023-03-14</th>\n",
              "      <td>92.559998</td>\n",
              "      <td>94.360001</td>\n",
              "      <td>92.440002</td>\n",
              "      <td>93.970001</td>\n",
              "      <td>93.970001</td>\n",
              "      <td>36030100</td>\n",
              "    </tr>\n",
              "    <tr>\n",
              "      <th>2023-03-15</th>\n",
              "      <td>93.220001</td>\n",
              "      <td>96.070000</td>\n",
              "      <td>92.639999</td>\n",
              "      <td>95.879997</td>\n",
              "      <td>95.879997</td>\n",
              "      <td>23751189</td>\n",
              "    </tr>\n",
              "  </tbody>\n",
              "</table>\n",
              "<p>1058 rows × 6 columns</p>\n",
              "</div>\n",
              "      <button class=\"colab-df-convert\" onclick=\"convertToInteractive('df-004b44c5-5de2-45cc-9610-f1708e40a4c8')\"\n",
              "              title=\"Convert this dataframe to an interactive table.\"\n",
              "              style=\"display:none;\">\n",
              "        \n",
              "  <svg xmlns=\"http://www.w3.org/2000/svg\" height=\"24px\"viewBox=\"0 0 24 24\"\n",
              "       width=\"24px\">\n",
              "    <path d=\"M0 0h24v24H0V0z\" fill=\"none\"/>\n",
              "    <path d=\"M18.56 5.44l.94 2.06.94-2.06 2.06-.94-2.06-.94-.94-2.06-.94 2.06-2.06.94zm-11 1L8.5 8.5l.94-2.06 2.06-.94-2.06-.94L8.5 2.5l-.94 2.06-2.06.94zm10 10l.94 2.06.94-2.06 2.06-.94-2.06-.94-.94-2.06-.94 2.06-2.06.94z\"/><path d=\"M17.41 7.96l-1.37-1.37c-.4-.4-.92-.59-1.43-.59-.52 0-1.04.2-1.43.59L10.3 9.45l-7.72 7.72c-.78.78-.78 2.05 0 2.83L4 21.41c.39.39.9.59 1.41.59.51 0 1.02-.2 1.41-.59l7.78-7.78 2.81-2.81c.8-.78.8-2.07 0-2.86zM5.41 20L4 18.59l7.72-7.72 1.47 1.35L5.41 20z\"/>\n",
              "  </svg>\n",
              "      </button>\n",
              "      \n",
              "  <style>\n",
              "    .colab-df-container {\n",
              "      display:flex;\n",
              "      flex-wrap:wrap;\n",
              "      gap: 12px;\n",
              "    }\n",
              "\n",
              "    .colab-df-convert {\n",
              "      background-color: #E8F0FE;\n",
              "      border: none;\n",
              "      border-radius: 50%;\n",
              "      cursor: pointer;\n",
              "      display: none;\n",
              "      fill: #1967D2;\n",
              "      height: 32px;\n",
              "      padding: 0 0 0 0;\n",
              "      width: 32px;\n",
              "    }\n",
              "\n",
              "    .colab-df-convert:hover {\n",
              "      background-color: #E2EBFA;\n",
              "      box-shadow: 0px 1px 2px rgba(60, 64, 67, 0.3), 0px 1px 3px 1px rgba(60, 64, 67, 0.15);\n",
              "      fill: #174EA6;\n",
              "    }\n",
              "\n",
              "    [theme=dark] .colab-df-convert {\n",
              "      background-color: #3B4455;\n",
              "      fill: #D2E3FC;\n",
              "    }\n",
              "\n",
              "    [theme=dark] .colab-df-convert:hover {\n",
              "      background-color: #434B5C;\n",
              "      box-shadow: 0px 1px 3px 1px rgba(0, 0, 0, 0.15);\n",
              "      filter: drop-shadow(0px 1px 2px rgba(0, 0, 0, 0.3));\n",
              "      fill: #FFFFFF;\n",
              "    }\n",
              "  </style>\n",
              "\n",
              "      <script>\n",
              "        const buttonEl =\n",
              "          document.querySelector('#df-004b44c5-5de2-45cc-9610-f1708e40a4c8 button.colab-df-convert');\n",
              "        buttonEl.style.display =\n",
              "          google.colab.kernel.accessAllowed ? 'block' : 'none';\n",
              "\n",
              "        async function convertToInteractive(key) {\n",
              "          const element = document.querySelector('#df-004b44c5-5de2-45cc-9610-f1708e40a4c8');\n",
              "          const dataTable =\n",
              "            await google.colab.kernel.invokeFunction('convertToInteractive',\n",
              "                                                     [key], {});\n",
              "          if (!dataTable) return;\n",
              "\n",
              "          const docLinkHtml = 'Like what you see? Visit the ' +\n",
              "            '<a target=\"_blank\" href=https://colab.research.google.com/notebooks/data_table.ipynb>data table notebook</a>'\n",
              "            + ' to learn more about interactive tables.';\n",
              "          element.innerHTML = '';\n",
              "          dataTable['output_type'] = 'display_data';\n",
              "          await google.colab.output.renderOutput(dataTable, element);\n",
              "          const docLink = document.createElement('div');\n",
              "          docLink.innerHTML = docLinkHtml;\n",
              "          element.appendChild(docLink);\n",
              "        }\n",
              "      </script>\n",
              "    </div>\n",
              "  </div>\n",
              "  "
            ]
          },
          "metadata": {},
          "execution_count": 8
        }
      ]
    },
    {
      "cell_type": "markdown",
      "source": [
        "In addition to checking the dataset details such as the data types of the features, we also need to check if there are any null values."
      ],
      "metadata": {
        "id": "nvRXIlyPds6p"
      }
    },
    {
      "cell_type": "code",
      "source": [
        "data.info()"
      ],
      "metadata": {
        "colab": {
          "base_uri": "https://localhost:8080/"
        },
        "id": "Amboq4-yduRV",
        "outputId": "67dffc9a-964d-4479-a277-b2ee1311831b"
      },
      "execution_count": 9,
      "outputs": [
        {
          "output_type": "stream",
          "name": "stdout",
          "text": [
            "<class 'pandas.core.frame.DataFrame'>\n",
            "DatetimeIndex: 1058 entries, 2019-01-02 to 2023-03-15\n",
            "Data columns (total 6 columns):\n",
            " #   Column     Non-Null Count  Dtype  \n",
            "---  ------     --------------  -----  \n",
            " 0   Open       1058 non-null   float64\n",
            " 1   High       1058 non-null   float64\n",
            " 2   Low        1058 non-null   float64\n",
            " 3   Close      1058 non-null   float64\n",
            " 4   Adj Close  1058 non-null   float64\n",
            " 5   Volume     1058 non-null   int64  \n",
            "dtypes: float64(5), int64(1)\n",
            "memory usage: 57.9 KB\n"
          ]
        }
      ]
    },
    {
      "cell_type": "markdown",
      "source": [
        "In the next step, we will check for non-numeric values in the ‘Close’ feature and change them to Nan. Check for non-numeric values in the dataset as well."
      ],
      "metadata": {
        "id": "PZEzTBpBeJ-F"
      }
    },
    {
      "cell_type": "code",
      "source": [
        "data[\"Close\"]"
      ],
      "metadata": {
        "colab": {
          "base_uri": "https://localhost:8080/"
        },
        "id": "1N-5W6A2eLCD",
        "outputId": "303885ba-745b-425a-970a-e62d121c319e"
      },
      "execution_count": 10,
      "outputs": [
        {
          "output_type": "execute_result",
          "data": {
            "text/plain": [
              "Date\n",
              "2019-01-02    52.734001\n",
              "2019-01-03    51.273499\n",
              "2019-01-04    53.903500\n",
              "2019-01-07    53.796001\n",
              "2019-01-08    54.268501\n",
              "                ...    \n",
              "2023-03-09    92.320000\n",
              "2023-03-10    90.629997\n",
              "2023-03-13    91.110001\n",
              "2023-03-14    93.970001\n",
              "2023-03-15    95.879997\n",
              "Name: Close, Length: 1058, dtype: float64"
            ]
          },
          "metadata": {},
          "execution_count": 10
        }
      ]
    },
    {
      "cell_type": "code",
      "source": [
        "# check for non-numeric values in the ‘Close’ feature and change them to Nan\n",
        "data[\"Close\"] = pd.to_numeric(data.Close, errors = 'coerce')\n",
        "# Check for non-numeric values in the dataset as well.\n",
        "print(data.isnull().sum().sum()) # it is 0\n",
        "print(data.duplicated().any()) # it is false\n",
        "# There are no Nan values associated with the ‘Close’ feature"
      ],
      "metadata": {
        "colab": {
          "base_uri": "https://localhost:8080/"
        },
        "id": "lLMoQCT4fTx4",
        "outputId": "ca4b091d-0233-47cd-ac4f-b7febb7923bb"
      },
      "execution_count": 15,
      "outputs": [
        {
          "output_type": "stream",
          "name": "stdout",
          "text": [
            "0\n",
            "False\n"
          ]
        }
      ]
    },
    {
      "cell_type": "markdown",
      "source": [
        "In the next step, we will plot the close and check the stock’s growth based on the time."
      ],
      "metadata": {
        "id": "M9m3Ty7fkz88"
      }
    },
    {
      "cell_type": "code",
      "source": [
        "plt.plot(data.index, data['Close'], color='red', label = 'Close column')\n",
        "plt.show()"
      ],
      "metadata": {
        "colab": {
          "base_uri": "https://localhost:8080/",
          "height": 265
        },
        "id": "hgk7RcBHk6Fu",
        "outputId": "821a7f49-acad-456c-d4a6-96f4a1351293"
      },
      "execution_count": 16,
      "outputs": [
        {
          "output_type": "display_data",
          "data": {
            "text/plain": [
              "<Figure size 432x288 with 1 Axes>"
            ],
            "image/png": "[encoded data removed]"
          },
          "metadata": {
            "needs_background": "light"
          }
        }
      ]
    },
    {
      "cell_type": "markdown",
      "source": [
        "**Processing of data**"
      ],
      "metadata": {
        "id": "OIV1XMARmgS9"
      }
    },
    {
      "cell_type": "markdown",
      "source": [
        "Due to the limited number of features we are going to use in this tutorial, a new dataframe will be created, dataV1, and only contain the Close feature.\n",
        "\n"
      ],
      "metadata": {
        "id": "LR3PUVfQnMKJ"
      }
    },
    {
      "cell_type": "code",
      "source": [
        "dataV1 = data.iloc[:,3:4]\n",
        "print(dataV1)\n",
        "dataV1 = dataV1.values\n",
        "print(dataV1)"
      ],
      "metadata": {
        "colab": {
          "base_uri": "https://localhost:8080/"
        },
        "id": "vx2cUYS6mj6V",
        "outputId": "3f0ff585-872a-476e-b0c7-a727ef518c72"
      },
      "execution_count": 21,
      "outputs": [
        {
          "output_type": "stream",
          "name": "stdout",
          "text": [
            "                Close\n",
            "Date                 \n",
            "2019-01-02  52.734001\n",
            "2019-01-03  51.273499\n",
            "2019-01-04  53.903500\n",
            "2019-01-07  53.796001\n",
            "2019-01-08  54.268501\n",
            "...               ...\n",
            "2023-03-09  92.320000\n",
            "2023-03-10  90.629997\n",
            "2023-03-13  91.110001\n",
            "2023-03-14  93.970001\n",
            "2023-03-15  95.879997\n",
            "\n",
            "[1058 rows x 1 columns]\n",
            "[[52.73400116]\n",
            " [51.27349854]\n",
            " [53.9034996 ]\n",
            " ...\n",
            " [91.11000061]\n",
            " [93.97000122]\n",
            " [95.87999725]]\n"
          ]
        }
      ]
    },
    {
      "cell_type": "markdown",
      "source": [
        "To normalize our data, import MinMaxScaler from sklearn library. It does this by transforming a feature by scaling it to a given range in this case just the ‘Close’ feature."
      ],
      "metadata": {
        "id": "DIuF5NLDo6q2"
      }
    },
    {
      "cell_type": "code",
      "source": [
        "from sklearn.preprocessing import MinMaxScaler\n",
        "Scaler = MinMaxScaler(feature_range = (0,1))\n",
        "dataV1 = Scaler.fit_transform(dataV1)"
      ],
      "metadata": {
        "id": "K54gqW3Ro7dM"
      },
      "execution_count": 22,
      "outputs": []
    },
    {
      "cell_type": "code",
      "source": [
        "feature_length = 100"
      ],
      "metadata": {
        "id": "aCsiUbzUpoYq"
      },
      "execution_count": 23,
      "outputs": []
    },
    {
      "cell_type": "markdown",
      "source": [
        "**Funcion Auxiliar**"
      ],
      "metadata": {
        "id": "aOIujX7Jr7w9"
      }
    },
    {
      "cell_type": "markdown",
      "source": [
        "Our data has to be divided into X and Y variables before we can build the model. To do so, we will write a function called Create_Features_and_Targets.\n",
        "\n"
      ],
      "metadata": {
        "id": "UiidOKu0pt9T"
      }
    },
    {
      "cell_type": "code",
      "source": [
        "# Function to create x and y data\n",
        "def Create_Features_and_Targets(data, feature_length):\n",
        "  X = list()\n",
        "  Y = list()\n",
        "  for i in range(len(data) - feature_length - 1):\n",
        "    X.append(data[i:(i + feature_length), 0])\n",
        "    Y.append(data[i + feature_length, 0])\n",
        "  X = np.array(X)\n",
        "  Y = np.array(Y)\n",
        "  return X, Y\n",
        "X_train, y_train = Create_Features_and_Targets(dataV1, feature_length)"
      ],
      "metadata": {
        "id": "flPwn1urr-oi"
      },
      "execution_count": 31,
      "outputs": []
    },
    {
      "cell_type": "markdown",
      "source": [
        "*****As LSTM takes 3 dimensional data as input, data should be made 3 dimensional.*"
      ],
      "metadata": {
        "id": "AdDX7NKmuIY5"
      }
    },
    {
      "cell_type": "code",
      "source": [
        "X_train = np.reshape(X_train,(X_train.shape[0], X_train.shape[1],1))\n",
        "X_train.shape, y_train.shape"
      ],
      "metadata": {
        "colab": {
          "base_uri": "https://localhost:8080/"
        },
        "id": "Ly7OxbhQymk9",
        "outputId": "34fc6af4-6c2a-4334-9998-def1ae559b46"
      },
      "execution_count": 32,
      "outputs": [
        {
          "output_type": "execute_result",
          "data": {
            "text/plain": [
              "((957, 100, 1), (957,))"
            ]
          },
          "metadata": {},
          "execution_count": 32
        }
      ]
    },
    {
      "cell_type": "markdown",
      "source": [
        "**Model creation**"
      ],
      "metadata": {
        "id": "HYmv2lXRzFON"
      }
    },
    {
      "cell_type": "code",
      "source": [
        "# Create the model by importing the required libraries\n",
        "from tensorflow.keras.models import Sequential\n",
        "from tensorflow.keras.layers import Dense, Dropout, LSTM"
      ],
      "metadata": {
        "id": "RgfK6fmTzGz8"
      },
      "execution_count": 33,
      "outputs": []
    },
    {
      "cell_type": "markdown",
      "source": [
        "Adam will be used as an optimizer for the LSTM model we will create which consists of two LSTM layers, two dropout layers, and one dense layer."
      ],
      "metadata": {
        "id": "aRFzUtn4zy8D"
      }
    },
    {
      "cell_type": "code",
      "source": [
        "# LSTMs are recurrent neural networks (RNNs). In simple terms, LSTMs work by allowing the network to remember \n",
        "# the context of the model while forgetting the irrelevant information.\n",
        "model = Sequential([\n",
        "    LSTM(100, return_sequences=True, input_shape=(X_train.shape[1],1)),\n",
        "    Dropout(0.3),\n",
        "    LSTM(100, return_sequences= False),\n",
        "    Dropout(0.3),\n",
        "\n",
        "    Dense(1),\n",
        "])\n",
        "model.compile(optimizer='adam', loss=\"mean_squared_error\")\n",
        "model.summary()"
      ],
      "metadata": {
        "colab": {
          "base_uri": "https://localhost:8080/"
        },
        "id": "aMHxw3xL0gvE",
        "outputId": "958639ad-b2be-4498-d049-3e391670d6b1"
      },
      "execution_count": 35,
      "outputs": [
        {
          "output_type": "stream",
          "name": "stdout",
          "text": [
            "Model: \"sequential_1\"\n",
            "_________________________________________________________________\n",
            " Layer (type)                Output Shape              Param #   \n",
            "=================================================================\n",
            " lstm_2 (LSTM)               (None, 100, 100)          40800     \n",
            "                                                                 \n",
            " dropout_2 (Dropout)         (None, 100, 100)          0         \n",
            "                                                                 \n",
            " lstm_3 (LSTM)               (None, 100)               80400     \n",
            "                                                                 \n",
            " dropout_3 (Dropout)         (None, 100)               0         \n",
            "                                                                 \n",
            " dense_1 (Dense)             (None, 1)                 101       \n",
            "                                                                 \n",
            "=================================================================\n",
            "Total params: 121,301\n",
            "Trainable params: 121,301\n",
            "Non-trainable params: 0\n",
            "_________________________________________________________________\n"
          ]
        }
      ]
    },
    {
      "cell_type": "markdown",
      "source": [
        "Using the model.fit function, we can now train the model. Our model will be trained using a batch_size of 12 under 100 epochs."
      ],
      "metadata": {
        "id": "t_AkLN941yl3"
      }
    },
    {
      "cell_type": "code",
      "source": [
        "history = model.fit(\n",
        "    X_train,\n",
        "    y_train,\n",
        "    epochs = 100,\n",
        "    batch_size = 12,\n",
        "    verbose = 1,\n",
        ")"
      ],
      "metadata": {
        "colab": {
          "base_uri": "https://localhost:8080/"
        },
        "id": "HIUJOfaU1zeb",
        "outputId": "2b93fcaf-96be-44a4-8d05-68efe3a13e3a"
      },
      "execution_count": 36,
      "outputs": [
        {
          "output_type": "stream",
          "name": "stdout",
          "text": [
            "Epoch 1/100\n",
            "80/80 [==============================] - 15s 120ms/step - loss: 0.0186\n",
            "Epoch 2/100\n",
            "80/80 [==============================] - 10s 131ms/step - loss: 0.0044\n",
            "Epoch 3/100\n",
            "80/80 [==============================] - 11s 132ms/step - loss: 0.0047\n",
            "Epoch 4/100\n",
            "80/80 [==============================] - 11s 134ms/step - loss: 0.0039\n",
            "Epoch 5/100\n",
            "80/80 [==============================] - 11s 133ms/step - loss: 0.0040\n",
            "Epoch 6/100\n",
            "80/80 [==============================] - 11s 133ms/step - loss: 0.0038\n",
            "Epoch 7/100\n",
            "80/80 [==============================] - 11s 134ms/step - loss: 0.0041\n",
            "Epoch 8/100\n",
            "80/80 [==============================] - 10s 122ms/step - loss: 0.0036\n",
            "Epoch 9/100\n",
            "80/80 [==============================] - 11s 136ms/step - loss: 0.0034\n",
            "Epoch 10/100\n",
            "80/80 [==============================] - 11s 135ms/step - loss: 0.0028\n",
            "Epoch 11/100\n",
            "80/80 [==============================] - 11s 137ms/step - loss: 0.0032\n",
            "Epoch 12/100\n",
            "80/80 [==============================] - 11s 141ms/step - loss: 0.0032\n",
            "Epoch 13/100\n",
            "80/80 [==============================] - 12s 153ms/step - loss: 0.0030\n",
            "Epoch 14/100\n",
            "80/80 [==============================] - 12s 147ms/step - loss: 0.0028\n",
            "Epoch 15/100\n",
            "80/80 [==============================] - 11s 141ms/step - loss: 0.0029\n",
            "Epoch 16/100\n",
            "80/80 [==============================] - 11s 137ms/step - loss: 0.0029\n",
            "Epoch 17/100\n",
            "80/80 [==============================] - 11s 136ms/step - loss: 0.0025\n",
            "Epoch 18/100\n",
            "80/80 [==============================] - 10s 131ms/step - loss: 0.0027\n",
            "Epoch 19/100\n",
            "80/80 [==============================] - 10s 130ms/step - loss: 0.0025\n",
            "Epoch 20/100\n",
            "80/80 [==============================] - 11s 136ms/step - loss: 0.0024\n",
            "Epoch 21/100\n",
            "80/80 [==============================] - 11s 137ms/step - loss: 0.0024\n",
            "Epoch 22/100\n",
            "80/80 [==============================] - 11s 136ms/step - loss: 0.0021\n",
            "Epoch 23/100\n",
            "80/80 [==============================] - 11s 136ms/step - loss: 0.0023\n",
            "Epoch 24/100\n",
            "80/80 [==============================] - 11s 135ms/step - loss: 0.0021\n",
            "Epoch 25/100\n",
            "80/80 [==============================] - 11s 135ms/step - loss: 0.0023\n",
            "Epoch 26/100\n",
            "80/80 [==============================] - 11s 137ms/step - loss: 0.0021\n",
            "Epoch 27/100\n",
            "80/80 [==============================] - 10s 125ms/step - loss: 0.0022\n",
            "Epoch 28/100\n",
            "80/80 [==============================] - 11s 136ms/step - loss: 0.0027\n",
            "Epoch 29/100\n",
            "80/80 [==============================] - 11s 137ms/step - loss: 0.0021\n",
            "Epoch 30/100\n",
            "80/80 [==============================] - 11s 136ms/step - loss: 0.0020\n",
            "Epoch 31/100\n",
            "80/80 [==============================] - 11s 137ms/step - loss: 0.0018\n",
            "Epoch 32/100\n",
            "80/80 [==============================] - 11s 135ms/step - loss: 0.0021\n",
            "Epoch 33/100\n",
            "80/80 [==============================] - 11s 135ms/step - loss: 0.0022\n",
            "Epoch 34/100\n",
            "80/80 [==============================] - 11s 137ms/step - loss: 0.0019\n",
            "Epoch 35/100\n",
            "80/80 [==============================] - 11s 136ms/step - loss: 0.0017\n",
            "Epoch 36/100\n",
            "80/80 [==============================] - 10s 127ms/step - loss: 0.0020\n",
            "Epoch 37/100\n",
            "80/80 [==============================] - 11s 137ms/step - loss: 0.0017\n",
            "Epoch 38/100\n",
            "80/80 [==============================] - 11s 138ms/step - loss: 0.0017\n",
            "Epoch 39/100\n",
            "80/80 [==============================] - 11s 137ms/step - loss: 0.0018\n",
            "Epoch 40/100\n",
            "80/80 [==============================] - 11s 138ms/step - loss: 0.0017\n",
            "Epoch 41/100\n",
            "80/80 [==============================] - 11s 137ms/step - loss: 0.0016\n",
            "Epoch 42/100\n",
            "80/80 [==============================] - 11s 139ms/step - loss: 0.0018\n",
            "Epoch 43/100\n",
            "80/80 [==============================] - 11s 137ms/step - loss: 0.0017\n",
            "Epoch 44/100\n",
            "80/80 [==============================] - 11s 138ms/step - loss: 0.0017\n",
            "Epoch 45/100\n",
            "80/80 [==============================] - 10s 130ms/step - loss: 0.0017\n",
            "Epoch 46/100\n",
            "80/80 [==============================] - 11s 131ms/step - loss: 0.0016\n",
            "Epoch 47/100\n",
            "80/80 [==============================] - 11s 138ms/step - loss: 0.0016\n",
            "Epoch 48/100\n",
            "80/80 [==============================] - 11s 139ms/step - loss: 0.0017\n",
            "Epoch 49/100\n",
            "80/80 [==============================] - 11s 138ms/step - loss: 0.0015\n",
            "Epoch 50/100\n",
            "80/80 [==============================] - 11s 138ms/step - loss: 0.0015\n",
            "Epoch 51/100\n",
            "80/80 [==============================] - 11s 139ms/step - loss: 0.0017\n",
            "Epoch 52/100\n",
            "80/80 [==============================] - 11s 138ms/step - loss: 0.0014\n",
            "Epoch 53/100\n",
            "80/80 [==============================] - 11s 138ms/step - loss: 0.0016\n",
            "Epoch 54/100\n",
            "80/80 [==============================] - 11s 138ms/step - loss: 0.0015\n",
            "Epoch 55/100\n",
            "80/80 [==============================] - 10s 130ms/step - loss: 0.0015\n",
            "Epoch 56/100\n",
            "80/80 [==============================] - 11s 134ms/step - loss: 0.0016\n",
            "Epoch 57/100\n",
            "80/80 [==============================] - 11s 138ms/step - loss: 0.0016\n",
            "Epoch 58/100\n",
            "80/80 [==============================] - 11s 138ms/step - loss: 0.0015\n",
            "Epoch 59/100\n",
            "80/80 [==============================] - 11s 139ms/step - loss: 0.0016\n",
            "Epoch 60/100\n",
            "80/80 [==============================] - 11s 138ms/step - loss: 0.0013\n",
            "Epoch 61/100\n",
            "80/80 [==============================] - 11s 138ms/step - loss: 0.0014\n",
            "Epoch 62/100\n",
            "80/80 [==============================] - 11s 140ms/step - loss: 0.0012\n",
            "Epoch 63/100\n",
            "80/80 [==============================] - 11s 139ms/step - loss: 0.0013\n",
            "Epoch 64/100\n",
            "80/80 [==============================] - 11s 142ms/step - loss: 0.0015\n",
            "Epoch 65/100\n",
            "80/80 [==============================] - 11s 138ms/step - loss: 0.0013\n",
            "Epoch 66/100\n",
            "80/80 [==============================] - 10s 130ms/step - loss: 0.0013\n",
            "Epoch 67/100\n",
            "80/80 [==============================] - 11s 138ms/step - loss: 0.0013\n",
            "Epoch 68/100\n",
            "80/80 [==============================] - 11s 138ms/step - loss: 0.0013\n",
            "Epoch 69/100\n",
            "80/80 [==============================] - 11s 139ms/step - loss: 0.0014\n",
            "Epoch 70/100\n",
            "80/80 [==============================] - 11s 140ms/step - loss: 0.0013\n",
            "Epoch 71/100\n",
            "80/80 [==============================] - 11s 141ms/step - loss: 0.0014\n",
            "Epoch 72/100\n",
            "80/80 [==============================] - 11s 141ms/step - loss: 0.0015\n",
            "Epoch 73/100\n",
            "80/80 [==============================] - 11s 143ms/step - loss: 0.0013\n",
            "Epoch 74/100\n",
            "80/80 [==============================] - 11s 144ms/step - loss: 0.0013\n",
            "Epoch 75/100\n",
            "80/80 [==============================] - 11s 143ms/step - loss: 0.0014\n",
            "Epoch 76/100\n",
            "80/80 [==============================] - 11s 141ms/step - loss: 0.0012\n",
            "Epoch 77/100\n",
            "80/80 [==============================] - 12s 144ms/step - loss: 0.0013\n",
            "Epoch 78/100\n",
            "80/80 [==============================] - 11s 134ms/step - loss: 0.0013\n",
            "Epoch 79/100\n",
            "80/80 [==============================] - 11s 136ms/step - loss: 0.0011\n",
            "Epoch 80/100\n",
            "80/80 [==============================] - 11s 139ms/step - loss: 0.0014\n",
            "Epoch 81/100\n",
            "80/80 [==============================] - 11s 142ms/step - loss: 0.0013\n",
            "Epoch 82/100\n",
            "80/80 [==============================] - 11s 142ms/step - loss: 0.0014\n",
            "Epoch 83/100\n",
            "80/80 [==============================] - 11s 139ms/step - loss: 0.0012\n",
            "Epoch 84/100\n",
            "80/80 [==============================] - 11s 139ms/step - loss: 0.0011\n",
            "Epoch 85/100\n",
            "80/80 [==============================] - 11s 141ms/step - loss: 0.0013\n",
            "Epoch 86/100\n",
            "80/80 [==============================] - 11s 139ms/step - loss: 0.0012\n",
            "Epoch 87/100\n",
            "80/80 [==============================] - 11s 139ms/step - loss: 0.0012\n",
            "Epoch 88/100\n",
            "80/80 [==============================] - 11s 139ms/step - loss: 0.0013\n",
            "Epoch 89/100\n",
            "80/80 [==============================] - 11s 138ms/step - loss: 0.0012\n",
            "Epoch 90/100\n",
            "80/80 [==============================] - 11s 132ms/step - loss: 0.0013\n",
            "Epoch 91/100\n",
            "80/80 [==============================] - 11s 141ms/step - loss: 0.0012\n",
            "Epoch 92/100\n",
            "80/80 [==============================] - 11s 141ms/step - loss: 0.0013\n",
            "Epoch 93/100\n",
            "80/80 [==============================] - 11s 141ms/step - loss: 0.0013\n",
            "Epoch 94/100\n",
            "80/80 [==============================] - 11s 140ms/step - loss: 0.0011\n",
            "Epoch 95/100\n",
            "80/80 [==============================] - 11s 139ms/step - loss: 0.0013\n",
            "Epoch 96/100\n",
            "80/80 [==============================] - 11s 139ms/step - loss: 0.0012\n",
            "Epoch 97/100\n",
            "80/80 [==============================] - 11s 141ms/step - loss: 0.0013\n",
            "Epoch 98/100\n",
            "80/80 [==============================] - 11s 141ms/step - loss: 0.0012\n",
            "Epoch 99/100\n",
            "80/80 [==============================] - 11s 143ms/step - loss: 0.0013\n",
            "Epoch 100/100\n",
            "80/80 [==============================] - 11s 142ms/step - loss: 0.0015\n"
          ]
        }
      ]
    },
    {
      "cell_type": "markdown",
      "source": [
        "It’s time to test the model now that we have successfully trained it. For testing the model, the whole data set will be used, and the predicted data will be plotted against the actual data."
      ],
      "metadata": {
        "id": "8CnmxvlQ2OBA"
      }
    },
    {
      "cell_type": "markdown",
      "source": [
        "**Predicting and testing**"
      ],
      "metadata": {
        "id": "a3UIJc_z3Qfp"
      }
    },
    {
      "cell_type": "markdown",
      "source": [
        "To run the tests, you will need to collect data from two datasets. The ‘Close’ feature should be used to create two variables, one for plotting real data, y_real, and one for making predictions, x_test. Our goal is to create the x_test variable by getting all the values from the ‘Close’ feature, scaling the data with Scaler.transform and transforming the shape to a 3D shape. From the ‘Close’ feature, we can get all values starting from the 101st value to create the y_real variable."
      ],
      "metadata": {
        "id": "3kt_-X4f3ZrI"
      }
    },
    {
      "cell_type": "code",
      "source": [
        "testData = data.iloc[:,3:4] # get close feature\n",
        "y_real = testData.iloc[feature_length + 1 :, 0:].values #Actual values\n",
        "x_test = testData.iloc[:,0:].values # data to test\n",
        "# normalizing the Data using Scaler.transform function\n",
        "x_test = Scaler.transform(x_test)\n",
        "x_test, y_test = Create_Features_and_Targets(x_test, feature_length)\n",
        "#Making data 3d\n",
        "x_test = np.reshape(x_test, (x_test.shape[0], x_test.shape[1],1))"
      ],
      "metadata": {
        "id": "4vdfYLoc4udG"
      },
      "execution_count": 38,
      "outputs": []
    },
    {
      "cell_type": "markdown",
      "source": [
        "**Making predictions**"
      ],
      "metadata": {
        "id": "Ni4h5m8N5HcQ"
      }
    },
    {
      "cell_type": "code",
      "source": [
        "# Now let’s plot the data after running the prediction test\n",
        "\n",
        "y_pred = model.predict(x_test)\n",
        "predicted_price = Scaler.inverse_transform(y_pred)"
      ],
      "metadata": {
        "colab": {
          "base_uri": "https://localhost:8080/"
        },
        "id": "njxwOswi5I47",
        "outputId": "0182de60-dd9b-4863-d3c8-b38be6a26933"
      },
      "execution_count": 39,
      "outputs": [
        {
          "output_type": "stream",
          "name": "stdout",
          "text": [
            "30/30 [==============================] - 3s 55ms/step\n"
          ]
        }
      ]
    },
    {
      "cell_type": "markdown",
      "source": [
        "Comparison of predicted and actual stock prices"
      ],
      "metadata": {
        "id": "Zfbl_KkQ5XBe"
      }
    },
    {
      "cell_type": "code",
      "source": [
        "plt.plot(y_real, color = 'red', label = 'Actual')\n",
        "plt.plot(predicted_price, color = 'green', label = 'Predicted')\n",
        "plt.xlabel('Time')\n",
        "plt.xlabel('Stock')\n",
        "plt.legend()\n",
        "plt.show()"
      ],
      "metadata": {
        "colab": {
          "base_uri": "https://localhost:8080/",
          "height": 279
        },
        "id": "Qjf761z15YBZ",
        "outputId": "3153af1e-e3e0-4ba5-f1ea-d2735d9a87cb"
      },
      "execution_count": 40,
      "outputs": [
        {
          "output_type": "display_data",
          "data": {
            "text/plain": [
              "<Figure size 432x288 with 1 Axes>"
            ],
            "image/png": "[encoded data removed]"
          },
          "metadata": {
            "needs_background": "light"
          }
        }
      ]
    }
  ]
}