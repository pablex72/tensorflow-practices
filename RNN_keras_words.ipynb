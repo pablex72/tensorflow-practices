{
  "nbformat": 4,
  "nbformat_minor": 0,
  "metadata": {
    "colab": {
      "provenance": [],
      "authorship_tag": "ABX9TyO5X90td9xpHhAArgdBkGOV",
      "include_colab_link": true
    },
    "kernelspec": {
      "name": "python3",
      "display_name": "Python 3"
    },
    "language_info": {
      "name": "python"
    }
  },
  "cells": [
    {
      "cell_type": "markdown",
      "metadata": {
        "id": "view-in-github",
        "colab_type": "text"
      },
      "source": [
        "<a href=\"https://colab.research.google.com/github/pablex72/tensorflow-practices/blob/main/RNN_keras_words.ipynb\" target=\"_parent\"><img src=\"https://colab.research.google.com/assets/colab-badge.svg\" alt=\"Open In Colab\"/></a>"
      ]
    },
    {
      "cell_type": "markdown",
      "source": [
        "**Importacion de librerias**"
      ],
      "metadata": {
        "id": "pSWG-ylrFDtP"
      }
    },
    {
      "cell_type": "code",
      "execution_count": 1,
      "metadata": {
        "id": "53AxlHSYawsg"
      },
      "outputs": [],
      "source": [
        "import numpy as np\n",
        "np.random.seed(5)"
      ]
    },
    {
      "cell_type": "code",
      "source": [
        "from keras.layers import Input, Dense, SimpleRNN\n",
        "from keras.models import Model\n",
        "from keras.optimizers import SGD\n",
        "from keras.utils import to_categorical\n",
        "from keras import backend as K\n",
        "# “to_categorical” y el backend para poder representar la entrada y salida \n",
        "# al modelo en el formato adecuado durante el entrenamiento y la durante la predicción"
      ],
      "metadata": {
        "id": "uX8ThkD1FNhN"
      },
      "execution_count": 2,
      "outputs": []
    },
    {
      "cell_type": "markdown",
      "source": [
        "**Lectura y pre-procesamiento del set de datos**"
      ],
      "metadata": {
        "id": "eDubx5-kFnqs"
      }
    },
    {
      "cell_type": "code",
      "source": [
        "nombres = open('/content/nombres_dinosaurios.txt','r').read()\n",
        "nombres = nombres.lower()\n",
        "nombres"
      ],
      "metadata": {
        "colab": {
          "base_uri": "https://localhost:8080/",
          "height": 174
        },
        "id": "N3rwlZ1MFrSo",
        "outputId": "934aa06c-ccb0-4b74-c55a-434086cdc5f6"
      },
      "execution_count": 4,
      "outputs": [
        {
          "output_type": "execute_result",
          "data": {
            "text/plain": [
              "'aachenosaurus\\naardonyx\\nabdallahsaurus\\nabelisaurus\\nabrictosaurus\\nabrosaurus\\nabydosaurus\\nacanthopholis\\nachelousaurus\\nacheroraptor\\nachillesaurus\\nachillobator\\nacristavus\\nacrocanthosaurus\\nacrotholus\\nactiosaurus\\nadamantisaurus\\nadasaurus\\nadelolophus\\nadeopapposaurus\\naegyptosaurus\\naeolosaurus\\naepisaurus\\naepyornithomimus\\naerosteon\\naetonyxafromimus\\nafrovenator\\nagathaumas\\naggiosaurus\\nagilisaurus\\nagnosphitys\\nagrosaurus\\nagujaceratops\\nagustinia\\nahshislepelta\\nairakoraptor\\najancingenia\\najkaceratops\\nalamosaurus\\nalaskacephale\\nalbalophosaurus\\nalbertaceratops\\nalbertadromeus\\nalbertavenator\\nalbertonykus\\nalbertosaurus\\nalbinykus\\nalbisaurus\\nalcovasaurus\\nalectrosaurus\\naletopelta\\nalgoasaurus\\nalioramus\\naliwalia\\nallosaurus\\nalmas\\nalnashetri\\nalocodon\\naltirhinus\\naltispinax\\nalvarezsaurus\\nalwalkeria\\nalxasaurus\\namargasaurus\\namargastegos\\namargatitanis\\namazonsaurus\\nammosaurus\\nampelosaurus\\namphicoelias\\namphicoelicaudia\\namphisaurus\\namtocephale\\namtosaurus\\namurosaurus\\namygdalodon\\nanabisetia\\nanasazisaurus\\nanatosaurus\\nanatotitan\\nanchiceratops\\nanchiornis\\nanchisaurus\\nandesaurus\\nandhrasaurus\\nangaturama\\nangloposeidon\\nangolatitan\\nangulomastacator\\naniksosaurus\\nanimantarx\\nankistrodon\\nankylosaurus\\nanodontosaurus\\nanoplosaurus\\nanserimimus\\nantarctopelta\\nantarctosaurus\\nantetonitrus\\nanthodon\\nantrodemus\\nanzu\\naoniraptor\\naorun\\napatodon\\napatoraptor\\napatosaurus\\nappalachiosaurus\\naquilops\\naragosaurus\\naralosaurus\\naraucanoraptor\\narchaeoceratops\\narchaeodontosaurus\\narchaeopteryx\\narchaeoraptor\\narchaeornis\\narchaeornithoides\\narchaeornithomimus\\narcovenator\\narctosaurus\\narcusaurus\\narenysaurus\\nargentinosaurus\\nargyrosaurus\\naristosaurus\\naristosuchus\\narizonasaurus\\narkansaurus\\narkharavia\\narrhinoceratops\\narstanosaurus\\nasiaceratops\\nasiamericana\\nasiatosaurus\\nastrodon\\nastrodonius\\nastrodontaurus\\nastrophocaudia\\nasylosaurus\\natacamatitan\\natlantosaurus\\natlasaurus\\natlascopcosaurus\\natrociraptor\\natsinganosaurus\\naublysodon\\naucasaurus\\naugustia\\naugustynolophus\\nauroraceratops\\naurornis\\naustralodocus\\naustralovenator\\naustrocheirus\\naustroposeidon\\naustroraptor\\naustrosaurus\\navaceratops\\navalonia\\navalonianus\\naviatyrannis\\navimimus\\navisaurus\\navipes\\nazendohsaurus\\nbactrosaurus\\nbagaceratops\\nbagaraatan\\nbahariasaurus\\nbainoceratops\\nbakesaurus\\nbalaur\\nbalochisaurus\\nbambiraptor\\nbanji\\nbaotianmansaurus\\nbarapasaurus\\nbarilium\\nbarosaurus\\nbarrosasaurus\\nbarsboldia\\nbaryonyx\\nbashunosaurus\\nbasutodon\\nbathygnathus\\nbatyrosaurus\\nbaurutitan\\nbayosaurus\\nbecklespinax\\nbeelemodon\\nbeibeilong\\nbeipiaognathus\\nbeipiaosaurus\\nbeishanlong\\nbellusaurus\\nbelodon\\nberberosaurus\\nbetasuchus\\nbicentenaria\\nbienosaurus\\nbihariosaurus\\nbilbeyhallorum\\nbissektipelta\\nbistahieversor\\nblancocerosaurus\\nblasisaurus\\nblikanasaurus\\nbolong\\nbonapartenykus\\nbonapartesaurus\\nbonatitan\\nbonitasaura\\nborealopelta\\nborealosaurus\\nboreonykus\\nborogovia\\nbothriospondylus\\nbrachiosaurus\\nbrachyceratops\\nbrachylophosaurus\\nbrachypodosaurus\\nbrachyrophus\\nbrachytaenius\\nbrachytrachelopan\\nbradycneme\\nbrasileosaurus\\nbrasilotitan\\nbravoceratops\\nbreviceratops\\nbrohisaurus\\nbrontomerus\\nbrontoraptor\\nbrontosaurus\\nbruhathkayosaurus\\nbugenasaura\\nbuitreraptor\\nburianosaurus\\nburiolestes\\nbyranjaffia\\nbyronosaurus\\ncaenagnathasia\\ncaenagnathus\\ncalamosaurus\\ncalamospondylus\\ncalamospondylus\\ncallovosaurus\\ncamarasaurus\\ncamarillasaurus\\ncamelotia\\ncamposaurus\\ncamptonotus\\ncamptosaurus\\ncampylodon\\ncampylodoniscus\\ncanardia\\ncapitalsaurus\\ncarcharodontosaurus\\ncardiodon\\ncarnotaurus\\ncaseosaurus\\ncathartesaura\\ncathetosaurus\\ncaudipteryx\\ncaudocoelus\\ncaulodon\\ncedarosaurus\\ncedarpelta\\ncedrorestes\\ncentemodon\\ncentrosaurus\\ncerasinops\\nceratonykus\\nceratops\\nceratosaurus\\ncetiosauriscus\\ncetiosaurus\\nchangchunsaurus\\nchangdusaurus\\nchangyuraptor\\nchaoyangsaurus\\ncharonosaurus\\nchasmosaurus\\nchassternbergia\\nchebsaurus\\nchenanisaurus\\ncheneosaurus\\nchialingosaurus\\nchiayusaurus\\nchienkosaurus\\nchihuahuasaurus\\nchilantaisaurus\\nchilesaurus\\nchindesaurus\\nchingkankousaurus\\nchinshakiangosaurus\\nchirostenotes\\nchoconsaurus\\nchondrosteosaurus\\nchromogisaurus\\nchuandongocoelurus\\nchuanjiesaurus\\nchuanqilong\\nchubutisaurus\\nchungkingosaurus\\nchuxiongosaurus\\ncinizasaurus\\ncionodon\\ncitipati\\ncladeiodon\\nclaorhynchus\\nclaosaurus\\nclarencea\\nclasmodosaurus\\nclepsysaurus\\ncoahuilaceratops\\ncoelophysis\\ncoelosaurus\\ncoeluroides\\ncoelurosauravus\\ncoelurus\\ncolepiocephale\\ncoloradia\\ncoloradisaurus\\ncolossosaurus\\ncomahuesaurus\\ncomanchesaurus\\ncompsognathus\\ncompsosuchus\\nconcavenator\\nconchoraptor\\ncondorraptor\\ncoronosaurus\\ncorythoraptor\\ncorythosaurus\\ncraspedodon\\ncrataeomus\\ncraterosaurus\\ncreosaurus\\ncrichtonpelta\\ncrichtonsaurus\\ncristatusaurus\\ncrosbysaurus\\ncruxicheiros\\ncryolophosaurus\\ncryptodraco\\ncryptoraptor\\ncryptosaurus\\ncryptovolans\\ncumnoria\\ndaanosaurus\\ndacentrurus\\ndachongosaurus\\ndaemonosaurus\\ndahalokely\\ndakosaurus\\ndakotadon\\ndakotaraptor\\ndaliansaurus\\ndamalasaurus\\ndandakosaurus\\ndanubiosaurus\\ndaptosaurus\\ndarwinsaurus\\ndashanpusaurus\\ndaspletosaurus\\ndasygnathoides\\ndasygnathus\\ndatanglong\\ndatonglong\\ndatousaurus\\ndaurosaurus\\ndaxiatitan\\ndeinocheirus\\ndeinodon\\ndeinonychus\\ndelapparentia\\ndeltadromeus\\ndemandasaurus\\ndenversaurus\\ndeuterosaurus\\ndiabloceratops\\ndiamantinasaurus\\ndianchungosaurus\\ndiceratops\\ndiceratusdiclonius\\ndicraeosaurus\\ndidanodondilong\\ndilophosaurus\\ndiluvicursor\\ndimodosaurus\\ndinheirosaurus\\ndinodocus\\ndinotyrannus\\ndiplodocus\\ndiplotomodon\\ndiracodon\\ndolichosuchus\\ndollodon\\ndomeykosaurus\\ndongbeititan\\ndongyangopelta\\ndongyangosaurus\\ndoratodon\\ndoryphorosaurus\\ndraconyx\\ndracopelta\\ndracoraptor\\ndracorex\\ndracovenator\\ndravidosaurus\\ndreadnoughtus\\ndrinker\\ndromaeosauroides\\ndromaeosaurus\\ndromiceiomimus\\ndromicosaurus\\ndrusilasaura\\ndryosaurus\\ndryptosauroides\\ndryptosaurus\\ndubreuillosaurus\\nduriatitan\\nduriavenator\\ndynamosaurus\\ndyoplosaurus\\ndysalotosaurus\\ndysganus\\ndyslocosaurus\\ndystrophaeus\\ndystylosaurus\\nechinodon\\nedmarka\\nedmontonia\\nedmontosaurus\\nefraasia\\neiniosaurus\\nekrixinatosaurus\\nelachistosuchus\\nelaltitan\\nelaphrosaurus\\nelmisaurus\\nelopteryx\\nelosaurus\\nelrhazosaurus\\nelvisaurus\\nemausaurus\\nembasaurus\\nenigmosaurus\\neoabelisaurus\\neobrontosaurus\\neocarcharia\\neoceratops\\neocursor\\neodromaeus\\neohadrosaurus\\neolambia\\neomamenchisaurus\\neoplophysis\\neoraptor\\neosinopteryx\\neotrachodon\\neotriceratops\\neotyrannus\\neousdryosaurus\\nepachthosaurus\\nepanterias\\nephoenosaurus\\nepicampodon\\nepichirostenotes\\nepidendrosaurus\\nepidexipteryx\\nequijubus\\nerectopus\\nerketu\\nerliansaurus\\nerlikosaurus\\neshanosaurus\\neuacanthus\\neucamerotus\\neucentrosaurus\\neucercosaurus\\neucnemesaurus\\neucoelophysis\\neugongbusaurus\\neuhelopus\\neuoplocephalus\\neupodosaurus\\neureodon\\neurolimnornis\\neuronychodon\\neuropasaurus\\neuropatitan\\neuropelta\\neuskelosaurus\\neustreptospondylus\\nfabrosaurus\\nfalcarius\\nfendusaurus\\nfenestrosaurus\\nferganasaurus\\nferganastegos\\nferganocephale\\nforaminacephale\\nfosterovenator\\nfrenguellisaurus\\nfruitadens\\nfukuiraptor\\nfukuisaurus\\nfukuititan\\nfukuivenator\\nfulengia\\nfulgurotherium\\nfusinasus\\nfusuisaurus\\nfutabasaurus\\nfutalognkosaurus\\ngadolosaurus\\ngaleamopus\\ngalesaurus\\ngallimimus\\ngaltonia\\ngalveosaurus\\ngalvesaurus\\ngannansaurus\\ngansutitan\\nganzhousaurus\\ngargoyleosaurus\\ngarudimimus\\ngasosaurus\\ngasparinisaura\\ngastonia\\ngavinosaurus\\ngeminiraptor\\ngenusaurus\\ngenyodectes\\ngeranosaurus\\ngideonmantellia\\ngiganotosaurus\\ngigantoraptor\\ngigantosaurus\\ngigantosaurus\\ngigantoscelus\\ngigantspinosaurus\\ngilmoreosaurus\\nginnareemimus\\ngiraffatitan\\nglacialisaurus\\nglishades\\nglyptodontopelta\\nskeleton\\ngobiceratops\\ngobisaurus\\ngobititan\\ngobivenator\\ngodzillasaurus\\ngojirasaurus\\ngondwanatitan\\ngongbusaurus\\ngongpoquansaurus\\ngongxianosaurus\\ngorgosaurus\\ngoyocephale\\ngraciliceratops\\ngraciliraptor\\ngracilisuchus\\ngravitholus\\ngresslyosaurus\\ngriphornis\\ngriphosaurus\\ngryphoceratops\\ngryponyx\\ngryposaurus\\ngspsaurus\\nguaibasaurus\\ngualicho\\nguanlong\\ngwyneddosaurus\\ngyposaurus\\nhadrosauravus\\nhadrosaurus\\nhaestasaurus\\nhagryphus\\nhallopus\\nhalszkaraptor\\nhalticosaurus\\nhanssuesia\\nhanwulosaurus\\nhaplocanthosaurus\\nhaplocanthus\\nhaplocheirus\\nharpymimus\\nhaya\\nhecatasaurus\\nheilongjiangosaurus\\nheishansaurus\\nhelioceratops\\nhelopus\\nheptasteornis\\nherbstosaurus\\nherrerasaurus\\nhesperonychus\\nhesperosaurus\\nheterodontosaurus\\nheterosaurus\\nhexing\\nhexinlusaurus\\nheyuannia\\nhierosaurus\\nhippodraco\\nhironosaurus\\nhisanohamasaurus\\nhistriasaurus\\nhomalocephale\\nhonghesaurus\\nhongshanosaurus\\nhoplitosaurus\\nhoplosaurus\\nhorshamosaurus\\nhortalotarsus\\nhuabeisaurus\\nhualianceratops\\nhuanansaurus\\nhuanghetitan\\nhuangshanlong\\nhuaxiagnathus\\nhuaxiaosaurus\\nhuaxiasaurus\\nhuayangosaurus\\nhudiesaurus\\nhuehuecanauhtlus\\nhulsanpes\\nhungarosaurus\\nhuxleysaurus\\nhylaeosaurus\\nhylosaurushypacrosaurus\\nhypselorhachis\\nhypselosaurus\\nhypselospinus\\nhypsibema\\nhypsilophodon\\nhypsirhophus\\nhabodcraniosaurus\\nichthyovenator\\nignavusaurus\\niguanacolossus\\niguanodon\\niguanoides\\nskeleton\\niguanosaurus\\niliosuchus\\nilokelesia\\nincisivosaurus\\nindosaurus\\nindosuchus\\ningenia\\ninosaurus\\nirritator\\nisaberrysaura\\nisanosaurus\\nischioceratops\\nischisaurus\\nischyrosaurus\\nisisaurus\\nissasaurus\\nitemirus\\niuticosaurus\\njainosaurus\\njaklapallisaurus\\njanenschia\\njaxartosaurus\\njeholosaurus\\njenghizkhan\\njensenosaurus\\njeyawati\\njianchangosaurus\\njiangjunmiaosaurus\\njiangjunosaurus\\njiangshanosaurus\\njiangxisaurus\\njianianhualong\\njinfengopteryx\\njingshanosaurus\\njintasaurus\\njinzhousaurus\\njiutaisaurus\\njobaria\\njubbulpuria\\njudiceratops\\njurapteryx\\njurassosaurus\\njuratyrant\\njuravenator\\nkagasaurus\\nkaijiangosaurus\\nkakuru\\nkangnasaurus\\nkarongasaurus\\nkatepensaurus\\nkatsuyamasaurus\\nkayentavenator\\nkazaklambia\\nkelmayisaurus\\nkemkemiakentrosaurus\\nkentrurosaurus\\nkerberosaurus\\nkentrosaurus\\nkhaan\\nkhetranisaurus\\nkileskus\\nkinnareemimus\\nkitadanisaurus\\nkittysaurus\\nklamelisauruskol\\nkoparion\\nkoreaceratops\\nkoreanosaurus\\nkoreanosaurus\\nkoshisaurus\\nkosmoceratops\\nkotasaurus\\nkoutalisaurus\\nkritosaurus\\nkryptops\\nkrzyzanowskisaurus\\nkukufeldia\\nkulceratops\\nkulindadromeus\\nkulindapteryx\\nkunbarrasaurus\\nkundurosaurus\\nkunmingosaurus\\nkuszholia\\nlabocania\\nlabrosaurus\\nlaelaps\\nlaevisuchus\\nlagerpeton\\nlagosuchus\\nlaiyangosaurus\\nlamaceratops\\nlambeosaurus\\nlametasaurus\\nlamplughsaura\\nlanasaurus\\nlancangosaurus\\nlancanjiangosaurus\\nlanzhousaurus\\nlaosaurus\\nlapampasaurus\\nlaplatasaurus\\nlapparentosaurus\\nlaquintasaura\\nlatenivenatrix\\nlatirhinus\\nleaellynasaura\\nleinkupal\\nleipsanosaurus\\nlengosaurus\\nleonerasaurus\\nlepidocheirosaurus\\nlepidus\\nleptoceratops\\nleptorhynchos\\nleptospondylus\\nleshansaurus\\nlesothosaurus\\nlessemsaurus\\nlevnesovia\\nlewisuchus\\nlexovisaurus\\nleyesaurus\\nliaoceratops\\nliaoningosaurus\\nliaoningtitan\\nliaoningvenator\\nliassaurus\\nlibycosaurus\\nligabueino\\nligabuesaurus\\nligomasaurus\\nlikhoelesaurus\\nliliensternus\\nlimaysaurus\\nlimnornis\\nlimnosaurus\\nlimusaurus\\nlinhenykus\\nlinheraptor\\nlinhevenator\\nlirainosaurus\\nlisboasaurusliubangosaurus\\nlohuecotitan\\nloncosaurus\\nlongisquama\\nlongosaurus\\nlophorhothon\\nlophostropheus\\nloricatosaurus\\nloricosaurus\\nlosillasaurus\\nlourinhanosaurus\\nlourinhasaurus\\nluanchuanraptor\\nluanpingosaurus\\nlucianosaurus\\nlucianovenator\\nlufengosaurus\\nlukousaurus\\nluoyanggia\\nlurdusaurus\\nlusitanosaurus\\nlusotitan\\nlycorhinus\\nlythronax\\nmacelognathus\\nmachairasaurus\\nmachairoceratops\\nmacrodontophion\\nmacrogryphosaurus\\nmacrophalangia\\nmacroscelosaurus\\nmacrurosaurus\\nmadsenius\\nmagnapaulia\\nmagnamanus\\nmagnirostris\\nmagnosaurus\\nmagulodon\\nmagyarosaurus\\nmahakala\\nmaiasaura\\nmajungasaurus\\nmajungatholus\\nmalarguesaurus\\nmalawisaurus\\nmaleevosaurus\\nmaleevus\\nmamenchisaurus\\nmanidens\\nmandschurosaurus\\nmanospondylus\\nmantellisaurus\\nmantellodon\\nmapusaurus\\nmarasuchus\\nmarisaurus\\nmarmarospondylus\\nmarshosaurus\\nmartharaptor\\nmasiakasaurus\\nmassospondylus\\nmatheronodon\\nmaxakalisaurus\\nmedusaceratops\\nmegacervixosaurus\\nmegadactylus\\nmegadontosaurus\\nmegalosaurus\\nmegapnosaurus\\nmegaraptor\\nmei\\nmelanorosaurus\\nmendozasaurus\\nmercuriceratops\\nmeroktenos\\nmetriacanthosaurus\\nmicrocephale\\nmicroceratops\\nmicroceratus\\nmicrocoelus\\nmicrodontosaurus\\nmicrohadrosaurus\\nmicropachycephalosaurus\\nmicroraptor\\nmicrovenator\\nmierasaurus\\nmifunesaurus\\nminmi\\nminotaurasaurus\\nmiragaia\\nmirischia\\nmoabosaurus\\nmochlodon\\nmohammadisaurus\\nmojoceratops\\nmongolosaurus\\nmonkonosaurus\\nmonoclonius\\nmonolophosaurus\\nmononychus\\nmononykus\\nmontanoceratops\\nmorelladon\\nmorinosaurus\\nmorosaurus\\nmorrosaurus\\nmosaiceratops\\nmoshisaurus\\nmtapaiasaurus\\nmtotosaurus\\nmurusraptor\\nmussaurus\\nmuttaburrasaurus\\nmuyelensaurus\\nmymoorapelta\\nnaashoibitosaurus\\nnambalia\\nnankangia\\nnanningosaurus\\nnanosaurus\\nnanotyrannus\\nnanshiungosaurus\\nnanuqsaurus\\nnanyangosaurus\\nnarambuenatitan\\nnasutoceratops\\nnatronasaurus\\nnebulasaurus\\nnectosaurus\\nnedcolbertia\\nnedoceratops\\nneimongosaurus\\nnemegtia\\nnemegtomaia\\nnemegtosaurus\\nneosaurus\\nneosodon\\nneovenator\\nneuquenraptor\\nneuquensaurus\\nnewtonsaurus\\nngexisaurus\\nnicksaurus\\nnigersaurus\\nningyuansaurus\\nniobrarasaurus\\nnipponosaurus\\nnoasaurus\\nnodocephalosaurus\\nnodosaurus\\nnomingia\\nnopcsaspondylus\\nnormanniasaurus\\nnothronychus\\nnotoceratops\\nnotocolossus\\nnotohypsilophodon\\nnqwebasaurus\\nnteregosaurus\\nnurosaurus\\nnuthetes\\nnyasasaurus\\nnyororosaurus\\nohmdenosaurus\\nojoceratops\\nojoraptorsaurus\\noligosaurus\\nolorotitan\\nomeisaurus\\nomosaurus\\nonychosaurus\\noohkotokia\\nopisthocoelicaudia\\noplosaurus\\norcomimus\\norinosaurusorkoraptor\\nornatotholusornithodesmus\\nornithoides\\nornitholestes\\nornithomerus\\nornithomimoides\\nornithomimus\\nornithopsis\\nornithosuchus\\nornithotarsus\\norodromeus\\norosaurus\\northogoniosaurus\\northomerus\\noryctodromeus\\noshanosaurus\\nosmakasaurus\\nostafrikasaurus\\nostromia\\nothnielia\\nothnielosaurus\\notogosaurus\\nouranosaurus\\noverosaurus\\noviraptor\\novoraptor\\nowenodon\\noxalaia\\nozraptor\\npachycephalosaurus\\npachyrhinosaurus\\npachysauriscus\\npachysaurops\\npachysaurus\\npachyspondylus\\npachysuchus\\npadillasaurus\\npakisaurus\\npalaeoctonus\\npalaeocursornis\\npalaeolimnornis\\npalaeopteryx\\npalaeosauriscus\\npalaeosaurus\\npalaeosaurus\\npalaeoscincus\\npaleosaurus\\npaludititan\\npaluxysaurus\\npampadromaeus\\npamparaptor\\npanamericansaurus\\npandoravenator\\npanguraptor\\npanoplosaurus\\npanphagia\\npantydraco\\nparaiguanodon\\nparalititan\\nparanthodon\\npararhabdodon\\nparasaurolophus\\npareiasaurus\\nparksosaurus\\nparonychodon\\nparrosaurus\\nparvicursor\\npatagonykus\\npatagosaurus\\npatagotitan\\npawpawsaurus\\npectinodon\\npedopenna\\npegomastax\\npeishansaurus\\npekinosaurus\\npelecanimimus\\npellegrinisaurus\\npeloroplites\\npelorosaurus\\npeltosaurus\\npenelopognathus\\npentaceratops\\npetrobrasaurus\\nphaedrolosaurus\\nphilovenator\\nphuwiangosaurus\\nphyllodon\\npiatnitzkysaurus\\npicrodon\\npinacosaurus\\npisanosaurus\\npitekunsaurus\\npiveteausaurus\\nplanicoxa\\nplateosauravus\\nplateosaurus\\nplatyceratops\\nplesiohadros\\npleurocoelus\\npleuropeltus\\npneumatoarthrus\\npneumatoraptor\\npodokesaurus\\npoekilopleuron\\npolacanthoides\\npolacanthus\\npolyodontosaurus\\npolyonax\\nponerosteus\\npoposaurus\\nparasaurolophus\\npostosuchus\\npowellvenator\\npradhania\\nprenocephale\\nprenoceratops\\npriconodon\\npriodontognathus\\nproa\\nprobactrosaurus\\nprobrachylophosaurus\\nproceratops\\nproceratosaurus\\nprocerosaurus\\nprocerosaurus\\nprocheneosaurus\\nprocompsognathus\\nprodeinodon\\nproiguanodon\\npropanoplosaurus\\nproplanicoxa\\nprosaurolophus\\nprotarchaeopteryx\\nprotecovasaurus\\nprotiguanodon\\nprotoavis\\nprotoceratops\\nprotognathosaurus\\nprotognathus\\nprotohadros\\nprotorosaurus\\nprotorosaurus\\nprotrachodon\\nproyandusaurus\\npseudolagosuchus\\npsittacosaurus\\npteropelyx\\npterospondylus\\npuertasaurus\\npukyongosaurus\\npulanesaura\\npycnonemosaurus\\npyroraptor\\nqantassaurus\\nqianzhousaurus\\nqiaowanlong\\nqijianglong\\nqinlingosaurus\\nqingxiusaurus\\nqiupalong\\nquaesitosaurus\\nquetecsaurus\\nquilmesaurus\\nrachitrema\\nrahiolisaurus\\nrahona\\nrahonavis\\nrajasaurus\\nrapator\\nrapetosaurus\\nraptorex\\nratchasimasaurus\\nrativates\\nrayososaurus\\nrazanandrongobe\\nrebbachisaurus\\nregaliceratops\\nregnosaurus\\nrevueltosaurus\\nrhabdodon\\nrhadinosaurus\\nrhinorex\\nrhodanosaurus\\nrhoetosaurus\\nrhopalodon\\nriabininohadros\\nrichardoestesia\\nrileya\\nrileyasuchus\\nrinchenia\\nrinconsaurus\\nrioarribasaurus\\nriodevasaurus\\nriojasaurus\\nriojasuchus\\nrocasaurus\\nroccosaurus\\nrubeosaurus\\nruehleia\\nrugocaudia\\nrugops\\nrukwatitan\\nruyangosaurus\\nsacisaurus\\nsahaliyania\\nsaichania\\nsaldamosaurus\\nsalimosaurus\\nsaltasaurus\\nsaltopus\\nsaltriosaurus\\nsanchusaurus\\nsangonghesaurus\\nsanjuansaurus\\nsanpasaurus\\nsantanaraptor\\nsaraikimasoom\\nsarahsaurus\\nsarcolestes\\nsarcosaurus\\nsarmientosaurus\\nsaturnalia\\nsauraechinodon\\nsaurolophus\\nsauroniops\\nsauropelta\\nsaurophaganax\\nsaurophagus\\nsauroplites\\nsauroposeidon\\nsaurornithoides\\nsaurornitholestes\\nsavannasaurus\\nscansoriopteryx\\nscaphonyx\\nscelidosaurus\\nscipionyx\\nsciurumimus\\nscleromochlus\\nscolosaurus\\nscutellosaurus\\nsecernosaurus\\nsefapanosaurus\\nsegisaurus\\nsegnosaurus\\nseismosaurus\\nseitaad\\nselimanosaurus\\nsellacoxa\\nsellosaurus\\nserendipaceratops\\nserikornis\\nshamosaurus\\nshanag\\nshanshanosaurus\\nshantungosaurus\\nshanxia\\nshanyangosaurus\\nshaochilong\\nshenzhousaurus\\nshidaisaurus\\nshingopana\\nshixinggia\\nshuangbaisaurus\\nshuangmiaosaurus\\nshunosaurus\\nshuvosaurus\\nshuvuuia\\nsiamodon\\nsiamodracon\\nsiamosaurus\\nsiamotyrannus\\nsiats\\nsibirosaurus\\nsibirotitan\\nsidormimus\\nsigilmassasaurus\\nsilesaurus\\nsiluosaurus\\nsilvisaurus\\nsimilicaudipteryx\\nsinocalliopteryx\\nsinoceratops\\nsinocoelurus\\nsinopelta\\nsinopeltosaurus\\nsinornithoides\\nsinornithomimus\\nsinornithosaurus\\nsinosauropteryx\\nsinosaurus\\nsinotyrannus\\nsinovenator\\nsinraptor\\nsinusonasus\\nsirindhorna\\nskorpiovenator\\nsmilodon\\nsonidosaurus\\nsonorasaurus\\nsoriatitan\\nsphaerotholus\\nsphenosaurus\\nsphenospondylus\\nspiclypeus\\nspinophorosaurus\\nspinops\\nspinosaurus\\nspinostropheus\\nspinosuchus\\nspondylosoma\\nsqualodon\\nstaurikosaurus\\nstegoceras\\nstegopelta\\nstegosaurides\\nstegosaurus\\nstenonychosaurus\\nstenopelix\\nstenotholus\\nstephanosaurus\\nstereocephalus\\nsterrholophus\\nstokesosaurus\\nstormbergia\\nstrenusaurus\\nstreptospondylus\\nstruthiomimus\\nstruthiosaurus\\nstygimoloch\\nstygivenator\\nstyracosaurus\\nsuccinodon\\nsuchomimus\\nsuchosaurus\\nsuchoprion\\nsugiyamasaurus\\nskeleton\\nsulaimanisaurus\\nsupersaurus\\nsuuwassea\\nsuzhousaurus\\nsymphyrophus\\nsyngonosaurus\\nsyntarsus\\nsyrmosaurus\\nszechuanosaurus\\ntachiraptor\\ntalarurus\\ntalenkauen\\ntalos\\ntambatitanis\\ntangvayosaurus\\ntanius\\ntanycolagreus\\ntanystropheus\\ntanystrosuchus\\ntaohelong\\ntapinocephalus\\ntapuiasaurus\\ntarascosaurus\\ntarbosaurus\\ntarchia\\ntastavinsaurus\\ntatankacephalus\\ntatankaceratops\\ntataouinea\\ntatisaurus\\ntaurovenator\\ntaveirosaurus\\ntawa\\ntawasaurus\\ntazoudasaurus\\ntechnosaurus\\ntecovasaurus\\ntehuelchesaurus\\nteihivenator\\nteinurosaurus\\nteleocrater\\ntelmatosaurus\\ntenantosaurus\\ntenchisaurus\\ntendaguria\\ntengrisaurus\\ntenontosaurus\\nteratophoneus\\nteratosaurus\\ntermatosaurus\\ntethyshadros\\ntetragonosaurus\\ntexacephale\\ntexasetes\\nteyuwasu\\nthecocoelurus\\nthecodontosaurus\\nthecospondylus\\ntheiophytalia\\ntherizinosaurus\\ntherosaurus\\nthescelosaurus\\nthespesius\\nthotobolosaurus\\ntianchisaurus\\ntianchungosaurus\\ntianyulong\\ntianyuraptor\\ntianzhenosaurus\\ntichosteus\\ntienshanosaurus\\ntimimus\\ntimurlengia\\ntitanoceratops\\ntitanosaurus\\ntitanosaurus\\ntochisaurus\\ntomodon\\ntonganosaurus\\ntongtianlong\\ntonouchisaurus\\ntorilion\\ntornieria\\ntorosaurus\\ntorvosaurus\\ntototlmimus\\ntrachodon\\ntraukutitan\\ntrialestes\\ntriassolestes\\ntribelesodon\\ntriceratops\\ntrigonosaurus\\ntrimucrodon\\ntrinisaura\\ntriunfosaurus\\ntroodon\\ntsaagan\\ntsagantegia\\ntsintaosaurus\\ntugulusaurus\\ntuojiangosaurus\\nturanoceratops\\nturiasaurus\\ntylocephale\\ntylosteus\\ntyrannosaurus\\ntyrannotitan\\nillustration\\nuberabatitan\\nudanoceratops\\nugrosaurus\\nugrunaaluk\\nuintasaurus\\nultrasauros\\nultrasaurus\\nultrasaurus\\numarsaurus\\nunaysaurus\\nunenlagia\\nunescoceratops\\nunicerosaurus\\nunquillosaurus\\nurbacodon\\nutahceratops\\nutahraptor\\nuteodon\\nvagaceratops\\nvahiny\\nvaldoraptor\\nvaldosaurus\\nvariraptor\\nvelociraptor\\nvectensia\\nvectisaurus\\nvelafrons\\nvelocipes\\nvelociraptor\\nvelocisaurus\\nvenaticosuchus\\nvenenosaurus\\nveterupristisaurus\\nviavenator\\nvitakridrinda\\nvitakrisaurus\\nvolkheimeria\\nvouivria\\nvulcanodon\\nwadhurstia\\nwakinosaurus\\nwalgettosuchus\\nwalkeria\\nwalkersaurus\\nwangonisaurus\\nwannanosaurus\\nwellnhoferia\\nwendiceratops\\nwiehenvenator\\nwillinakaqe\\nwintonotitan\\nwuerhosaurus\\nwulagasaurus\\nwulatelong\\nwyleyia\\nwyomingraptor\\nxenoceratops\\nxenoposeidon\\nxenotarsosaurus\\nxianshanosaurus\\nxiaosaurus\\nxingxiulong\\nxinjiangovenator\\nxinjiangtitan\\nxiongguanlong\\nxixianykus\\nxixiasaurus\\nxixiposaurus\\nxuanhanosaurus\\nxuanhuaceratops\\nxuanhuasaurus\\nxuwulong\\nyaleosaurus\\nyamaceratops\\nyandusaurus\\nyangchuanosaurus\\nyaverlandia\\nyehuecauhceratops\\nyezosaurus\\nyibinosaurus\\nyimenosaurus\\nyingshanosaurus\\nyinlong\\nyixianosaurus\\nyizhousaurus\\nyongjinglong\\nyuanmouraptor\\nyuanmousaurus\\nyueosaurus\\nyulong\\nyunganglong\\nyunmenglong\\nyunnanosaurus\\nyunxianosaurus\\nyurgovuchia\\nyutyrannus\\nzanabazar\\nzanclodon\\nzapalasaurus\\nzapsalis\\nzaraapelta\\nzatomuszby\\nzephyrosaurus\\nzhanghenglong\\nzhejiangosaurus\\nzhenyuanlong\\nzhongornis\\nzhongjianosaurus\\nzhongyuansaurus\\nzhuchengceratops\\nzhuchengosaurus\\nzhuchengtitan\\nzhuchengtyrannus\\nziapelta\\nzigongosaurus\\nzizhongosaurus\\nzuniceratops\\nzunityrannus\\nzuolong\\nzuoyunlong\\nzupaysaurus\\nzuul'"
            ],
            "application/vnd.google.colaboratory.intrinsic+json": {
              "type": "string"
            }
          },
          "metadata": {},
          "execution_count": 4
        }
      ]
    },
    {
      "cell_type": "markdown",
      "source": [
        "Como la Red Recurrente no acepta caracteres a la entrada, debemos convertir cada uno de estos a una representación numérica.\n",
        "\n",
        "Para ello definiremos un alfabeto, que corresponde a los diferentes caracteres que conforman el set de datos."
      ],
      "metadata": {
        "id": "S4tVg0R5Q4xv"
      }
    },
    {
      "cell_type": "code",
      "source": [
        "alfabeto = list(set(nombres))\n",
        "tam_datos, tam_alfabeto = len(nombres), len(alfabeto)"
      ],
      "metadata": {
        "id": "qADmj8HEQ4Eo"
      },
      "execution_count": 5,
      "outputs": []
    },
    {
      "cell_type": "markdown",
      "source": [
        "cada carácter será representado en el formato one-hot, es decir con un vector de 27 elementos"
      ],
      "metadata": {
        "id": "E1dXgYHrRDvK"
      }
    },
    {
      "cell_type": "code",
      "source": [
        "car_a_ind = { car:ind for ind,car in enumerate(sorted(alfabeto))}\n"
      ],
      "metadata": {
        "id": "gMl3SdnwREoN"
      },
      "execution_count": 6,
      "outputs": []
    },
    {
      "cell_type": "markdown",
      "source": [
        "convertir vectores one-hot a su carácter correspondiente, para lo cual crearemos un segundo diccionario que permite mapear índices a caracteres:"
      ],
      "metadata": {
        "id": "IDeGxsSlRQFW"
      }
    },
    {
      "cell_type": "code",
      "source": [
        "ind_a_car = { ind:car for ind,car in enumerate(sorted(alfabeto))}"
      ],
      "metadata": {
        "id": "AI4r1k03RRaS"
      },
      "execution_count": 9,
      "outputs": []
    },
    {
      "cell_type": "markdown",
      "source": [
        "**Creación de la Red Recurrente en Keras**\n"
      ],
      "metadata": {
        "id": "VYU5cNXbRXF1"
      }
    },
    {
      "cell_type": "markdown",
      "source": [
        "En primer lugar definimos el número de neuronas de la capa oculta (es decir 25), y creamos dos contenedores:"
      ],
      "metadata": {
        "id": "8Gnwurlqk_MU"
      }
    },
    {
      "cell_type": "code",
      "source": [
        "n_a = 25    # Número de unidades en la capa oculta"
      ],
      "metadata": {
        "id": "5p3staYWk3_k"
      },
      "execution_count": 10,
      "outputs": []
    },
    {
      "cell_type": "markdown",
      "source": [
        "y creamos dos contenedores:"
      ],
      "metadata": {
        "id": "aN-QtaXfltbZ"
      }
    },
    {
      "cell_type": "markdown",
      "source": [
        "Uno para la entrada ( en el diagrama anterior), en donde hemos usado la palabra clave None, lo cual nos permite tener entradas (es decir nombres de dinosaurio) con tamaños variables. "
      ],
      "metadata": {
        "id": "WvUw-OdGlB_B"
      }
    },
    {
      "cell_type": "code",
      "source": [
        "entrada  = Input(shape=(None,tam_alfabeto))"
      ],
      "metadata": {
        "id": "_NztDVF2nRWH"
      },
      "execution_count": 11,
      "outputs": []
    },
    {
      "cell_type": "markdown",
      "source": [
        "Uno para el estado oculto ( en el diagrama anterior), que será precisamente un vector con 25 elementos:"
      ],
      "metadata": {
        "id": "XKHc9uTXnP4o"
      }
    },
    {
      "cell_type": "code",
      "source": [
        "a0 = Input(shape=(n_a,))"
      ],
      "metadata": {
        "id": "QFKcThFjnqrJ"
      },
      "execution_count": 12,
      "outputs": []
    },
    {
      "cell_type": "markdown",
      "source": [
        "Ahora creamos la celda recurrente. Para ello usamos la función SimpleRNN importada anteriormente.\n"
      ],
      "metadata": {
        "id": "yra8Krhyp600"
      }
    },
    {
      "cell_type": "markdown",
      "source": [
        "Esta celda tendrá 25 neuronas, función de activación tangente hiperbólica y usaremos la palabra clave return_state para que a la salida nos entregue el nuevo estado oculto actualizado:\n",
        "\n"
      ],
      "metadata": {
        "id": "ITN71-C7p_hC"
      }
    },
    {
      "cell_type": "code",
      "source": [
        "celda_recurrente = SimpleRNN(n_a, activation='tanh', return_state = True)"
      ],
      "metadata": {
        "id": "qqX_DQCjp71V"
      },
      "execution_count": 13,
      "outputs": []
    },
    {
      "cell_type": "markdown",
      "source": [
        "Ahora creamos la capa softmax. Para ello usamos la función Dense. Esta capa tendrá 27 neuronas de salida (el tamaño del alfabeto) y usará precisamente la función de activación “softmax”:\n",
        "\n"
      ],
      "metadata": {
        "id": "3x8v97lBqNv7"
      }
    },
    {
      "cell_type": "code",
      "source": [
        "capa_salida = Dense(tam_alfabeto, activation='softmax')"
      ],
      "metadata": {
        "id": "2oxk86KJqOnJ"
      },
      "execution_count": 14,
      "outputs": []
    },
    {
      "cell_type": "markdown",
      "source": [
        "en Keras, usando la función Model importada anteriormente."
      ],
      "metadata": {
        "id": "zIIvZnG-qvvy"
      }
    },
    {
      "cell_type": "code",
      "source": [
        "hs, _ = celda_recurrente(entrada, initial_state=a0)\n",
        "salida = []\n",
        "salida.append(capa_salida(hs))"
      ],
      "metadata": {
        "id": "pD_-B4WRqwgd"
      },
      "execution_count": 15,
      "outputs": []
    },
    {
      "cell_type": "markdown",
      "source": [
        "Ahora creamos el modelo, dejando explícito que tendremos dos entradas (el caracter actual y el estado oculto anterior) y la salida correspondiente a la predicción:"
      ],
      "metadata": {
        "id": "OICHqY-1AmR4"
      }
    },
    {
      "cell_type": "code",
      "source": [
        "modelo = Model([entrada,a0],salida)"
      ],
      "metadata": {
        "id": "834IEzhnAnjH"
      },
      "execution_count": 16,
      "outputs": []
    },
    {
      "cell_type": "code",
      "source": [
        "opt = SGD(lr=0.0005)\n",
        "modelo.compile(optimizer=opt, loss='categorical_crossentropy')"
      ],
      "metadata": {
        "colab": {
          "base_uri": "https://localhost:8080/"
        },
        "id": "afn1VS-DA1ZP",
        "outputId": "fd8c907c-d46c-4c45-90a1-6a1a4cd71a86"
      },
      "execution_count": 17,
      "outputs": [
        {
          "output_type": "stream",
          "name": "stderr",
          "text": [
            "/usr/local/lib/python3.9/dist-packages/keras/optimizers/optimizer_v2/gradient_descent.py:114: UserWarning: The `lr` argument is deprecated, use `learning_rate` instead.\n",
            "  super().__init__(name, **kwargs)\n"
          ]
        }
      ]
    },
    {
      "cell_type": "markdown",
      "source": [
        "**Entrenamiento de la Red Recurrente**"
      ],
      "metadata": {
        "id": "70xnVTfiA8Kp"
      }
    },
    {
      "cell_type": "code",
      "source": [
        "with open(\"nombres_dinosaurios.txt\") as f:\n",
        "    ejemplos = f.readlines()\n",
        "ejemplos = [x.lower().strip() for x in ejemplos]\n",
        "np.random.shuffle(ejemplos)"
      ],
      "metadata": {
        "id": "NCuMsB0YA9rw"
      },
      "execution_count": 18,
      "outputs": []
    },
    {
      "cell_type": "markdown",
      "source": [
        "Después definimos una función que tome uno a uno cada ejemplo de entrenamiento y que genere tres vectores, que serán las entradas al modelo:"
      ],
      "metadata": {
        "id": "TCOq10BKBEWB"
      }
    },
    {
      "cell_type": "code",
      "source": [
        "def train_generator():\n",
        "    while True:\n",
        "        # Tomar un ejemplo aleatorio\n",
        "        ejemplo = ejemplos[np.random.randint(0,len(ejemplos))]\n",
        "\n",
        "        # Convertir el ejemplo a representación numérica\n",
        "        X = [None] + [car_a_ind[c] for c in ejemplo]\n",
        "\n",
        "        # Crear \"Y\", resultado de desplazar \"X\" un caracter a la derecha\n",
        "        Y = X[1:] + [car_a_ind['\\n']]\n",
        "\n",
        "        # Representar \"X\" y \"Y\" en formato one-hot\n",
        "        x = np.zeros((len(X),1,tam_alfabeto))\n",
        "        onehot = to_categorical(X[1:],tam_alfabeto).reshape(len(X)-1,1,tam_alfabeto)\n",
        "        x[1:,:,:] = onehot\n",
        "        y = to_categorical(Y,tam_alfabeto).reshape(len(X),tam_alfabeto)\n",
        "\n",
        "        # Activación inicial (matriz de ceros)\n",
        "        a = np.zeros((len(X), n_a))\n",
        "\n",
        "        yield [x, a], y"
      ],
      "metadata": {
        "id": "t4nEWeMzBFYD"
      },
      "execution_count": 22,
      "outputs": []
    },
    {
      "cell_type": "markdown",
      "source": [
        "Finalmente definimos la activación inicial que será simplemente una matriz de ceros, y que se irá actualizando a medida que se presentan uno a uno los caracteres al modelo durante el entrenamiento:\n"
      ],
      "metadata": {
        "id": "3KlnPjBwBkmV"
      }
    },
    {
      "cell_type": "markdown",
      "source": [
        "**ENTRENAMIENTO**"
      ],
      "metadata": {
        "id": "fD0mEKBFEMAb"
      }
    },
    {
      "cell_type": "code",
      "source": [
        "BATCH_SIZE = 80\t\t\t# Número de ejemplos de entrenamiento a usar en cada iteración\n",
        "NITS = 10000\t\t\t# Número de iteraciones\n",
        "\n",
        "for j in range(NITS):\n",
        "    historia = modelo.fit_generator(train_generator(), steps_per_epoch=BATCH_SIZE, epochs=1, verbose=0)\n",
        "\n",
        "    # Imprimir evolución del entrenamiento cada 1000 iteraciones\n",
        "    if j%1000 == 0:\n",
        "        print('\\nIteración: %d, Error: %f' % (j, historia.history['loss'][0]) + '\\n')"
      ],
      "metadata": {
        "colab": {
          "base_uri": "https://localhost:8080/"
        },
        "id": "VsbDiC7VBlnL",
        "outputId": "f2b4357f-a8cd-4457-c925-7024d034fbe3"
      },
      "execution_count": null,
      "outputs": [
        {
          "metadata": {
            "tags": null
          },
          "name": "stderr",
          "output_type": "stream",
          "text": [
            "<ipython-input-24-8076776f9f0c>:5: UserWarning: `Model.fit_generator` is deprecated and will be removed in a future version. Please use `Model.fit`, which supports generators.\n",
            "  historia = modelo.fit_generator(train_generator(), steps_per_epoch=BATCH_SIZE, epochs=1, verbose=0)\n"
          ]
        },
        {
          "output_type": "stream",
          "name": "stdout",
          "text": [
            "\n",
            "Iteración: 0, Error: 3.282617\n",
            "\n",
            "\n",
            "Iteración: 1000, Error: 2.380164\n",
            "\n",
            "\n",
            "Iteración: 2000, Error: 2.249877\n",
            "\n",
            "\n",
            "Iteración: 3000, Error: 2.169339\n",
            "\n",
            "\n",
            "Iteración: 4000, Error: 2.188374\n",
            "\n",
            "\n",
            "Iteración: 5000, Error: 2.153284\n",
            "\n",
            "\n",
            "Iteración: 6000, Error: 2.138089\n",
            "\n",
            "\n",
            "Iteración: 7000, Error: 2.231277\n",
            "\n",
            "\n",
            "Iteración: 8000, Error: 2.181410\n",
            "\n",
            "\n",
            "Iteración: 9000, Error: 2.169926\n",
            "\n"
          ]
        }
      ]
    },
    {
      "cell_type": "markdown",
      "source": [
        "**Predicción con la Red Recurrente: generación de nombres de dinosaurios**"
      ],
      "metadata": {
        "id": "ZWU8zmX7EXlE"
      }
    },
    {
      "cell_type": "code",
      "source": [
        "def generar_nombre(modelo,car_a_num,tam_alfabeto,n_a):\n",
        "    # Inicializar x y a con ceros\n",
        "    x = np.zeros((1,1,tam_alfabeto,))\n",
        "    a = np.zeros((1, n_a))\n",
        "\n",
        "    # Nombre generado y caracter de fin de linea\n",
        "    nombre_generado = ''\n",
        "    fin_linea = '\\n'\n",
        "    car = -1\n",
        "\n",
        "    # Iterar sobre el modelo y generar predicción hasta tanto no se alcance\n",
        "    # \"fin_linea\" o el nombre generado llegue a los 50 caracteres\n",
        "    contador = 0\n",
        "    while (car != fin_linea and contador != 50):\n",
        "          # Generar predicción usando la celda RNN\n",
        "          a, _ = celda_recurrente(K.constant(x), initial_state=K.constant(a))\n",
        "          y = capa_salida(a)\n",
        "          prediccion = K.eval(y)\n",
        "\n",
        "          # Escoger aleatoriamente un elemento de la predicción (el elemento con\n",
        "          # con probabilidad más alta tendrá más opciones de ser seleccionado)\n",
        "          ix = np.random.choice(list(range(tam_alfabeto)),p=prediccion.ravel())\n",
        "\n",
        "          # Convertir el elemento seleccionado a caracter y añadirlo al nombre generado\n",
        "          car = ind_a_car[ix]\n",
        "          nombre_generado += car\n",
        "\n",
        "          # Crear x_(t+1) = y_t, y a_t = a_(t-1)\n",
        "          x = to_categorical(ix,tam_alfabeto).reshape(1,1,tam_alfabeto)\n",
        "          a = K.eval(a)\n",
        "\n",
        "          # Actualizar contador y continuar\n",
        "          contador += 1\n",
        "\n",
        "          # Agregar fin de línea al nombre generado en caso de tener más de 50 caracteres\n",
        "          if (contador == 50):\n",
        "            nombre_generado += '\\n'\n",
        "\n",
        "    print(nombre_generado)\n"
      ],
      "metadata": {
        "id": "ICftlcnZEZBq"
      },
      "execution_count": null,
      "outputs": []
    },
    {
      "cell_type": "markdown",
      "source": [
        "Generar 100 ejemplos de nombres generados por el modelo ya entrenado\n"
      ],
      "metadata": {
        "id": "btFVpDHtEhxW"
      }
    },
    {
      "cell_type": "code",
      "source": [
        "for i in range(100):\n",
        "    generar_nombre(modelo,car_a_ind,tam_alfabeto,n_a)"
      ],
      "metadata": {
        "id": "fXnBelpsEhcf"
      },
      "execution_count": null,
      "outputs": []
    }
  ]
}