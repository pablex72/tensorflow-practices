{
  "nbformat": 4,
  "nbformat_minor": 0,
  "metadata": {
    "colab": {
      "provenance": [],
      "authorship_tag": "ABX9TyNI6o2L6d+JYAvLSmIWqPPc",
      "include_colab_link": true
    },
    "kernelspec": {
      "name": "python3",
      "display_name": "Python 3"
    },
    "language_info": {
      "name": "python"
    }
  },
  "cells": [
    {
      "cell_type": "markdown",
      "metadata": {
        "id": "view-in-github",
        "colab_type": "text"
      },
      "source": [
        "<a href=\"https://colab.research.google.com/github/pablex72/tensorflow-practices/blob/main/Regresion_en_keras.ipynb\" target=\"_parent\"><img src=\"https://colab.research.google.com/assets/colab-badge.svg\" alt=\"Open In Colab\"/></a>"
      ]
    },
    {
      "cell_type": "markdown",
      "source": [
        "Importaciones"
      ],
      "metadata": {
        "id": "r05fUJJdG3L0"
      }
    },
    {
      "cell_type": "code",
      "execution_count": 31,
      "metadata": {
        "id": "4f-RT9rX_lbl"
      },
      "outputs": [],
      "source": [
        "import pandas as pd\n",
        "import numpy as np\n",
        "import matplotlib.pyplot as plt"
      ]
    },
    {
      "cell_type": "code",
      "source": [
        "from keras.models import Sequential\n",
        "from keras.layers.core import Dense\n",
        "from keras.optimizers import SGD"
      ],
      "metadata": {
        "id": "W8qlRDPk_6n4"
      },
      "execution_count": 32,
      "outputs": []
    },
    {
      "cell_type": "markdown",
      "source": [
        "Lectura de los datos\n"
      ],
      "metadata": {
        "id": "e7kq_eLvG1Qw"
      }
    },
    {
      "cell_type": "code",
      "source": [
        "#\n",
        "# Lectura y visualización del set de datos\n",
        "#\n",
        "\n",
        "datos = pd.read_csv('/content/dataset.csv', sep=\",\", skiprows=32, usecols=[2,3])\n",
        "\n",
        "x = datos['Age'].values\n",
        "y = datos['Systolic blood pressure'].values\n",
        "\n",
        "datos\n"
      ],
      "metadata": {
        "colab": {
          "base_uri": "https://localhost:8080/",
          "height": 959
        },
        "id": "GzBXuVC5AC1l",
        "outputId": "7af8323b-1f5c-42e8-9fd4-029b2c58d177"
      },
      "execution_count": 33,
      "outputs": [
        {
          "output_type": "execute_result",
          "data": {
            "text/plain": [
              "    Age  Systolic blood pressure\n",
              "0    39                      144\n",
              "1    45                      138\n",
              "2    47                      145\n",
              "3    65                      162\n",
              "4    46                      142\n",
              "5    67                      170\n",
              "6    42                      124\n",
              "7    67                      158\n",
              "8    56                      154\n",
              "9    64                      162\n",
              "10   56                      150\n",
              "11   59                      140\n",
              "12   34                      110\n",
              "13   42                      128\n",
              "14   48                      130\n",
              "15   45                      135\n",
              "16   17                      114\n",
              "17   20                      116\n",
              "18   19                      124\n",
              "19   36                      136\n",
              "20   50                      142\n",
              "21   39                      120\n",
              "22   21                      120\n",
              "23   44                      160\n",
              "24   53                      158\n",
              "25   63                      144\n",
              "26   29                      130\n",
              "27   25                      125\n",
              "28   69                      175"
            ],
            "text/html": [
              "\n",
              "  <div id=\"df-2ebd718b-438d-4c97-95a0-3a8714773029\">\n",
              "    <div class=\"colab-df-container\">\n",
              "      <div>\n",
              "<style scoped>\n",
              "    .dataframe tbody tr th:only-of-type {\n",
              "        vertical-align: middle;\n",
              "    }\n",
              "\n",
              "    .dataframe tbody tr th {\n",
              "        vertical-align: top;\n",
              "    }\n",
              "\n",
              "    .dataframe thead th {\n",
              "        text-align: right;\n",
              "    }\n",
              "</style>\n",
              "<table border=\"1\" class=\"dataframe\">\n",
              "  <thead>\n",
              "    <tr style=\"text-align: right;\">\n",
              "      <th></th>\n",
              "      <th>Age</th>\n",
              "      <th>Systolic blood pressure</th>\n",
              "    </tr>\n",
              "  </thead>\n",
              "  <tbody>\n",
              "    <tr>\n",
              "      <th>0</th>\n",
              "      <td>39</td>\n",
              "      <td>144</td>\n",
              "    </tr>\n",
              "    <tr>\n",
              "      <th>1</th>\n",
              "      <td>45</td>\n",
              "      <td>138</td>\n",
              "    </tr>\n",
              "    <tr>\n",
              "      <th>2</th>\n",
              "      <td>47</td>\n",
              "      <td>145</td>\n",
              "    </tr>\n",
              "    <tr>\n",
              "      <th>3</th>\n",
              "      <td>65</td>\n",
              "      <td>162</td>\n",
              "    </tr>\n",
              "    <tr>\n",
              "      <th>4</th>\n",
              "      <td>46</td>\n",
              "      <td>142</td>\n",
              "    </tr>\n",
              "    <tr>\n",
              "      <th>5</th>\n",
              "      <td>67</td>\n",
              "      <td>170</td>\n",
              "    </tr>\n",
              "    <tr>\n",
              "      <th>6</th>\n",
              "      <td>42</td>\n",
              "      <td>124</td>\n",
              "    </tr>\n",
              "    <tr>\n",
              "      <th>7</th>\n",
              "      <td>67</td>\n",
              "      <td>158</td>\n",
              "    </tr>\n",
              "    <tr>\n",
              "      <th>8</th>\n",
              "      <td>56</td>\n",
              "      <td>154</td>\n",
              "    </tr>\n",
              "    <tr>\n",
              "      <th>9</th>\n",
              "      <td>64</td>\n",
              "      <td>162</td>\n",
              "    </tr>\n",
              "    <tr>\n",
              "      <th>10</th>\n",
              "      <td>56</td>\n",
              "      <td>150</td>\n",
              "    </tr>\n",
              "    <tr>\n",
              "      <th>11</th>\n",
              "      <td>59</td>\n",
              "      <td>140</td>\n",
              "    </tr>\n",
              "    <tr>\n",
              "      <th>12</th>\n",
              "      <td>34</td>\n",
              "      <td>110</td>\n",
              "    </tr>\n",
              "    <tr>\n",
              "      <th>13</th>\n",
              "      <td>42</td>\n",
              "      <td>128</td>\n",
              "    </tr>\n",
              "    <tr>\n",
              "      <th>14</th>\n",
              "      <td>48</td>\n",
              "      <td>130</td>\n",
              "    </tr>\n",
              "    <tr>\n",
              "      <th>15</th>\n",
              "      <td>45</td>\n",
              "      <td>135</td>\n",
              "    </tr>\n",
              "    <tr>\n",
              "      <th>16</th>\n",
              "      <td>17</td>\n",
              "      <td>114</td>\n",
              "    </tr>\n",
              "    <tr>\n",
              "      <th>17</th>\n",
              "      <td>20</td>\n",
              "      <td>116</td>\n",
              "    </tr>\n",
              "    <tr>\n",
              "      <th>18</th>\n",
              "      <td>19</td>\n",
              "      <td>124</td>\n",
              "    </tr>\n",
              "    <tr>\n",
              "      <th>19</th>\n",
              "      <td>36</td>\n",
              "      <td>136</td>\n",
              "    </tr>\n",
              "    <tr>\n",
              "      <th>20</th>\n",
              "      <td>50</td>\n",
              "      <td>142</td>\n",
              "    </tr>\n",
              "    <tr>\n",
              "      <th>21</th>\n",
              "      <td>39</td>\n",
              "      <td>120</td>\n",
              "    </tr>\n",
              "    <tr>\n",
              "      <th>22</th>\n",
              "      <td>21</td>\n",
              "      <td>120</td>\n",
              "    </tr>\n",
              "    <tr>\n",
              "      <th>23</th>\n",
              "      <td>44</td>\n",
              "      <td>160</td>\n",
              "    </tr>\n",
              "    <tr>\n",
              "      <th>24</th>\n",
              "      <td>53</td>\n",
              "      <td>158</td>\n",
              "    </tr>\n",
              "    <tr>\n",
              "      <th>25</th>\n",
              "      <td>63</td>\n",
              "      <td>144</td>\n",
              "    </tr>\n",
              "    <tr>\n",
              "      <th>26</th>\n",
              "      <td>29</td>\n",
              "      <td>130</td>\n",
              "    </tr>\n",
              "    <tr>\n",
              "      <th>27</th>\n",
              "      <td>25</td>\n",
              "      <td>125</td>\n",
              "    </tr>\n",
              "    <tr>\n",
              "      <th>28</th>\n",
              "      <td>69</td>\n",
              "      <td>175</td>\n",
              "    </tr>\n",
              "  </tbody>\n",
              "</table>\n",
              "</div>\n",
              "      <button class=\"colab-df-convert\" onclick=\"convertToInteractive('df-2ebd718b-438d-4c97-95a0-3a8714773029')\"\n",
              "              title=\"Convert this dataframe to an interactive table.\"\n",
              "              style=\"display:none;\">\n",
              "        \n",
              "  <svg xmlns=\"http://www.w3.org/2000/svg\" height=\"24px\"viewBox=\"0 0 24 24\"\n",
              "       width=\"24px\">\n",
              "    <path d=\"M0 0h24v24H0V0z\" fill=\"none\"/>\n",
              "    <path d=\"M18.56 5.44l.94 2.06.94-2.06 2.06-.94-2.06-.94-.94-2.06-.94 2.06-2.06.94zm-11 1L8.5 8.5l.94-2.06 2.06-.94-2.06-.94L8.5 2.5l-.94 2.06-2.06.94zm10 10l.94 2.06.94-2.06 2.06-.94-2.06-.94-.94-2.06-.94 2.06-2.06.94z\"/><path d=\"M17.41 7.96l-1.37-1.37c-.4-.4-.92-.59-1.43-.59-.52 0-1.04.2-1.43.59L10.3 9.45l-7.72 7.72c-.78.78-.78 2.05 0 2.83L4 21.41c.39.39.9.59 1.41.59.51 0 1.02-.2 1.41-.59l7.78-7.78 2.81-2.81c.8-.78.8-2.07 0-2.86zM5.41 20L4 18.59l7.72-7.72 1.47 1.35L5.41 20z\"/>\n",
              "  </svg>\n",
              "      </button>\n",
              "      \n",
              "  <style>\n",
              "    .colab-df-container {\n",
              "      display:flex;\n",
              "      flex-wrap:wrap;\n",
              "      gap: 12px;\n",
              "    }\n",
              "\n",
              "    .colab-df-convert {\n",
              "      background-color: #E8F0FE;\n",
              "      border: none;\n",
              "      border-radius: 50%;\n",
              "      cursor: pointer;\n",
              "      display: none;\n",
              "      fill: #1967D2;\n",
              "      height: 32px;\n",
              "      padding: 0 0 0 0;\n",
              "      width: 32px;\n",
              "    }\n",
              "\n",
              "    .colab-df-convert:hover {\n",
              "      background-color: #E2EBFA;\n",
              "      box-shadow: 0px 1px 2px rgba(60, 64, 67, 0.3), 0px 1px 3px 1px rgba(60, 64, 67, 0.15);\n",
              "      fill: #174EA6;\n",
              "    }\n",
              "\n",
              "    [theme=dark] .colab-df-convert {\n",
              "      background-color: #3B4455;\n",
              "      fill: #D2E3FC;\n",
              "    }\n",
              "\n",
              "    [theme=dark] .colab-df-convert:hover {\n",
              "      background-color: #434B5C;\n",
              "      box-shadow: 0px 1px 3px 1px rgba(0, 0, 0, 0.15);\n",
              "      filter: drop-shadow(0px 1px 2px rgba(0, 0, 0, 0.3));\n",
              "      fill: #FFFFFF;\n",
              "    }\n",
              "  </style>\n",
              "\n",
              "      <script>\n",
              "        const buttonEl =\n",
              "          document.querySelector('#df-2ebd718b-438d-4c97-95a0-3a8714773029 button.colab-df-convert');\n",
              "        buttonEl.style.display =\n",
              "          google.colab.kernel.accessAllowed ? 'block' : 'none';\n",
              "\n",
              "        async function convertToInteractive(key) {\n",
              "          const element = document.querySelector('#df-2ebd718b-438d-4c97-95a0-3a8714773029');\n",
              "          const dataTable =\n",
              "            await google.colab.kernel.invokeFunction('convertToInteractive',\n",
              "                                                     [key], {});\n",
              "          if (!dataTable) return;\n",
              "\n",
              "          const docLinkHtml = 'Like what you see? Visit the ' +\n",
              "            '<a target=\"_blank\" href=https://colab.research.google.com/notebooks/data_table.ipynb>data table notebook</a>'\n",
              "            + ' to learn more about interactive tables.';\n",
              "          element.innerHTML = '';\n",
              "          dataTable['output_type'] = 'display_data';\n",
              "          await google.colab.output.renderOutput(dataTable, element);\n",
              "          const docLink = document.createElement('div');\n",
              "          docLink.innerHTML = docLinkHtml;\n",
              "          element.appendChild(docLink);\n",
              "        }\n",
              "      </script>\n",
              "    </div>\n",
              "  </div>\n",
              "  "
            ]
          },
          "metadata": {},
          "execution_count": 33
        }
      ]
    },
    {
      "cell_type": "markdown",
      "source": [
        "#\n",
        "Construir el modelo en Keras\n",
        "#\n",
        "\n",
        "###### - Capa de entrada: 1 dato (cada dato \"x\" correspondiente a la edad)\n",
        "###### - Capa de salida: 1 dato (cada dato \"y\" correspondiente a la regresión lineal)\n",
        "- Activación: 'linear' (pues se está implementando la regresión lineal)"
      ],
      "metadata": {
        "id": "cPC2DEKWK_u7"
      }
    },
    {
      "cell_type": "markdown",
      "source": [
        "Uso de Sequential()"
      ],
      "metadata": {
        "id": "MI6FRiRhLsNn"
      }
    },
    {
      "cell_type": "code",
      "source": [
        "np.random.seed(2) # Para reproducibilidad del entrenamiento\n",
        "modelo = Sequential()#es simplemente un contenedor, que bien podría ser \n",
        "#un modelo de Regresión Lineal o de Regresión Logística, una Red Neuronal o una Red Convolucional."
      ],
      "metadata": {
        "id": "C3OtWtgOK5Zm"
      },
      "execution_count": 34,
      "outputs": []
    },
    {
      "cell_type": "markdown",
      "source": [
        "Uso de Dense()\n",
        "###########Para definir cuál será el contenido de este modelo"
      ],
      "metadata": {
        "id": "nqgW7KCbM53W"
      }
    },
    {
      "cell_type": "code",
      "source": [
        "#output_dim: especifica el tamaño de los datos de salida\n",
        "#input_dim: se refiere al tamaño de los datos de entrada.\n",
        "#activation: permite definir la función de activación a utilizar\n",
        "\n",
        "# input: la edad y, al igual que en el caso anterior, tendrá una dimensión igual a 1.\n",
        "input_dim = 1\n",
        "\n",
        "# output : la dimensión será igual a 1 (por ser simplemente un dato numérico, y no un vector o una matriz o una imagen).\n",
        "output_dim = 1\n",
        "\n",
        "# activacion: comportamiento lineal o si lo usaremos para realizar, por ejemplo, una Regresión Logística o una Red Neuronal.\n",
        "modelo.add(Dense(output_dim, input_dim = input_dim, activation = 'linear'))\n"
      ],
      "metadata": {
        "id": "WQU8w0jeM78Q"
      },
      "execution_count": 35,
      "outputs": []
    },
    {
      "cell_type": "markdown",
      "source": [
        "Veamos ahora cómo definir el método que se usará para el entrenamiento del modelo.\n",
        "\n",
        "aún no se ha especificado la forma como se calcularán los parámetros de la línea recta (w y b)."
      ],
      "metadata": {
        "id": "nuCqjPFUQ_ri"
      }
    },
    {
      "cell_type": "markdown",
      "source": [
        "***usamos el módulo SGD***"
      ],
      "metadata": {
        "id": "gW7h6q2hRMRY"
      }
    },
    {
      "cell_type": "code",
      "source": [
        "# Stochastic Gradient Descent, y que como su nombre lo indica \n",
        "# permite especificar que el método de entrenamiento será precisamente el del Gradiente Descendente.\n",
        "# La siguiente línea de código permite crear una instancia de SGD con una tasa de aprendizaje (lr) igual a 0.0004:\n",
        "sgd = SGD(lr=0.0004)"
      ],
      "metadata": {
        "colab": {
          "base_uri": "https://localhost:8080/"
        },
        "id": "Yk8JtrTnT5Lk",
        "outputId": "aa1d610e-56e4-4857-edc8-1b46009a59ce"
      },
      "execution_count": 36,
      "outputs": [
        {
          "output_type": "stream",
          "name": "stderr",
          "text": [
            "/usr/local/lib/python3.9/dist-packages/keras/optimizers/optimizer_v2/gradient_descent.py:114: UserWarning: The `lr` argument is deprecated, use `learning_rate` instead.\n",
            "  super().__init__(name, **kwargs)\n"
          ]
        }
      ]
    },
    {
      "cell_type": "markdown",
      "source": [
        "**Compile**\n",
        "Una vez creado este objeto se debe enlazar con el modelo. Para ello se usa el método compile, en el cual se definirá adicionalmente la función de error (error cuadrático medio):"
      ],
      "metadata": {
        "id": "K6dsM6dYVoqC"
      }
    },
    {
      "cell_type": "code",
      "source": [
        "# error cuadrático medio (mean squared error, mse)\n",
        "# optimizer=sgd permite especificar que el modelo hará uso del Gradiente Descendente para el entrenamiento.\n",
        "modelo.compile(loss='mse', optimizer=sgd)"
      ],
      "metadata": {
        "id": "ZOsx5QvxUCtf"
      },
      "execution_count": 37,
      "outputs": []
    },
    {
      "cell_type": "markdown",
      "source": [
        "Uso de summary()\n"
      ],
      "metadata": {
        "id": "2XC0hjqeWvaz"
      }
    },
    {
      "cell_type": "code",
      "source": [
        "modelo.summary()\n",
        "#Param #, que en este caso es igual a 2. Este valor corresponde a los dos parámetros (w y b)"
      ],
      "metadata": {
        "colab": {
          "base_uri": "https://localhost:8080/"
        },
        "id": "mAM8M1opXR35",
        "outputId": "c5241b44-a547-49ae-b678-11a17030cfdf"
      },
      "execution_count": 38,
      "outputs": [
        {
          "output_type": "stream",
          "name": "stdout",
          "text": [
            "Model: \"sequential_3\"\n",
            "_________________________________________________________________\n",
            " Layer (type)                Output Shape              Param #   \n",
            "=================================================================\n",
            " dense_1 (Dense)             (None, 1)                 2         \n",
            "                                                                 \n",
            "=================================================================\n",
            "Total params: 2\n",
            "Trainable params: 2\n",
            "Non-trainable params: 0\n",
            "_________________________________________________________________\n"
          ]
        }
      ]
    },
    {
      "cell_type": "markdown",
      "source": [
        "**Entrenamiento del modelo**\n",
        "El entrenamiento se lleva a cabo con el método fit, el cual requiere al menos tres parámetros de entrada:"
      ],
      "metadata": {
        "id": "OUBPItw_YA4O"
      }
    },
    {
      "cell_type": "code",
      "source": [
        "# epochs: el número de iteraciones que se usarán durante el entrenamiento (en este caso serán 40,000).\n",
        "num_epochs = 40\n",
        "# batch_size: define la cantidad de datos que se usarán en cada iteración del entrenamiento.\n",
        "# En este caso se tienen tan solo 29 datos, que será precisamente el mismo batch_size a usar.\n",
        "batch_size = x.shape[0]\n",
        "# verbose: permite imprimir en pantalla los resultados del entrenamiento en cada iteración.\n",
        "historia = modelo.fit(x, y, epochs=num_epochs, batch_size=batch_size, verbose=1)"
      ],
      "metadata": {
        "colab": {
          "base_uri": "https://localhost:8080/"
        },
        "id": "2NOvVAOvZahe",
        "outputId": "eff9bee6-491a-48b7-8a4f-2c78c8e852aa"
      },
      "execution_count": 39,
      "outputs": [
        {
          "output_type": "stream",
          "name": "stdout",
          "text": [
            "Epoch 1/40\n",
            "1/1 [==============================] - 0s 245ms/step - loss: 9580.0381\n",
            "Epoch 2/40\n",
            "1/1 [==============================] - 0s 8ms/step - loss: 6686.4219\n",
            "Epoch 3/40\n",
            "1/1 [==============================] - 0s 8ms/step - loss: 4775.1060\n",
            "Epoch 4/40\n",
            "1/1 [==============================] - 0s 8ms/step - loss: 3512.6069\n",
            "Epoch 5/40\n",
            "1/1 [==============================] - 0s 8ms/step - loss: 2678.6616\n",
            "Epoch 6/40\n",
            "1/1 [==============================] - 0s 7ms/step - loss: 2127.7778\n",
            "Epoch 7/40\n",
            "1/1 [==============================] - 0s 7ms/step - loss: 1763.8595\n",
            "Epoch 8/40\n",
            "1/1 [==============================] - 0s 7ms/step - loss: 1523.4329\n",
            "Epoch 9/40\n",
            "1/1 [==============================] - 0s 7ms/step - loss: 1364.5750\n",
            "Epoch 10/40\n",
            "1/1 [==============================] - 0s 6ms/step - loss: 1259.5936\n",
            "Epoch 11/40\n",
            "1/1 [==============================] - 0s 7ms/step - loss: 1190.1982\n",
            "Epoch 12/40\n",
            "1/1 [==============================] - 0s 8ms/step - loss: 1144.3074\n",
            "Epoch 13/40\n",
            "1/1 [==============================] - 0s 7ms/step - loss: 1113.9417\n",
            "Epoch 14/40\n",
            "1/1 [==============================] - 0s 7ms/step - loss: 1093.8304\n",
            "Epoch 15/40\n",
            "1/1 [==============================] - 0s 8ms/step - loss: 1080.4923\n",
            "Epoch 16/40\n",
            "1/1 [==============================] - 1s 521ms/step - loss: 1071.6282\n",
            "Epoch 17/40\n",
            "1/1 [==============================] - 0s 20ms/step - loss: 1065.7191\n",
            "Epoch 18/40\n",
            "1/1 [==============================] - 0s 17ms/step - loss: 1061.7616\n",
            "Epoch 19/40\n",
            "1/1 [==============================] - 0s 12ms/step - loss: 1059.0935\n",
            "Epoch 20/40\n",
            "1/1 [==============================] - 0s 18ms/step - loss: 1057.2767\n",
            "Epoch 21/40\n",
            "1/1 [==============================] - 0s 22ms/step - loss: 1056.0225\n",
            "Epoch 22/40\n",
            "1/1 [==============================] - 0s 42ms/step - loss: 1055.1399\n",
            "Epoch 23/40\n",
            "1/1 [==============================] - 0s 18ms/step - loss: 1054.5026\n",
            "Epoch 24/40\n",
            "1/1 [==============================] - 0s 22ms/step - loss: 1054.0272\n",
            "Epoch 25/40\n",
            "1/1 [==============================] - 0s 8ms/step - loss: 1053.6592\n",
            "Epoch 26/40\n",
            "1/1 [==============================] - 0s 15ms/step - loss: 1053.3618\n",
            "Epoch 27/40\n",
            "1/1 [==============================] - 0s 27ms/step - loss: 1053.1111\n",
            "Epoch 28/40\n",
            "1/1 [==============================] - 0s 18ms/step - loss: 1052.8915\n",
            "Epoch 29/40\n",
            "1/1 [==============================] - 0s 20ms/step - loss: 1052.6923\n",
            "Epoch 30/40\n",
            "1/1 [==============================] - 0s 6ms/step - loss: 1052.5062\n",
            "Epoch 31/40\n",
            "1/1 [==============================] - 0s 11ms/step - loss: 1052.3292\n",
            "Epoch 32/40\n",
            "1/1 [==============================] - 0s 18ms/step - loss: 1052.1580\n",
            "Epoch 33/40\n",
            "1/1 [==============================] - 0s 15ms/step - loss: 1051.9907\n",
            "Epoch 34/40\n",
            "1/1 [==============================] - 0s 15ms/step - loss: 1051.8264\n",
            "Epoch 35/40\n",
            "1/1 [==============================] - 0s 16ms/step - loss: 1051.6636\n",
            "Epoch 36/40\n",
            "1/1 [==============================] - 0s 10ms/step - loss: 1051.5018\n",
            "Epoch 37/40\n",
            "1/1 [==============================] - 0s 31ms/step - loss: 1051.3407\n",
            "Epoch 38/40\n",
            "1/1 [==============================] - 0s 12ms/step - loss: 1051.1802\n",
            "Epoch 39/40\n",
            "1/1 [==============================] - 0s 22ms/step - loss: 1051.0200\n",
            "Epoch 40/40\n",
            "1/1 [==============================] - 0s 27ms/step - loss: 1050.8604\n"
          ]
        }
      ]
    },
    {
      "cell_type": "markdown",
      "source": [
        "Resultados\n",
        "#\n",
        "# Visualizar resultados del entrenamiento\n",
        "#"
      ],
      "metadata": {
        "id": "8oan0y7kbeiW"
      }
    },
    {
      "cell_type": "code",
      "source": [
        "# Los parámetros w y b calculados tras el entrenamiento, se pueden imprimir en pantalla usando el siguiente código:\n",
        "capas = modelo.layers[0]\n",
        "w, b = capas.get_weights()\n",
        "print('Parámetros: w = {:.1f}, b = {:.1f}'.format(w[0][0],b[0]))"
      ],
      "metadata": {
        "colab": {
          "base_uri": "https://localhost:8080/"
        },
        "id": "DOslw_ejbfbd",
        "outputId": "c5b8b3f9-da08-494d-e396-8ce5bf6c827e"
      },
      "execution_count": 46,
      "outputs": [
        {
          "output_type": "stream",
          "name": "stdout",
          "text": [
            "Parámetros: w = 2.9, b = 0.4\n"
          ]
        }
      ]
    },
    {
      "cell_type": "markdown",
      "source": [
        "# Graficar el error vs epochs y el resultado de la regresión\n",
        "# superpuesto a los datos originales"
      ],
      "metadata": {
        "id": "WxCZoZqGmc8j"
      }
    },
    {
      "cell_type": "code",
      "source": [
        "y_regr = modelo.predict(x)\n",
        "plt.subplot(1, 2, 2)\n",
        "plt.scatter(x,y)\n",
        "plt.plot(x,y_regr,'r')\n",
        "plt.xlabel('x')\n",
        "plt.ylabel('y')\n",
        "plt.title('Datos originales y regresión lineal')\n",
        "plt.show()"
      ],
      "metadata": {
        "colab": {
          "base_uri": "https://localhost:8080/",
          "height": 312
        },
        "id": "syzg0jlLmelZ",
        "outputId": "849789c1-e183-494e-d74c-d06ba4c9d5ff"
      },
      "execution_count": 47,
      "outputs": [
        {
          "output_type": "stream",
          "name": "stdout",
          "text": [
            "1/1 [==============================] - 1s 536ms/step\n"
          ]
        },
        {
          "output_type": "display_data",
          "data": {
            "text/plain": [
              "<Figure size 432x288 with 1 Axes>"
            ],
            "image/png": "[encoded data removed]"
          },
          "metadata": {
            "needs_background": "light"
          }
        }
      ]
    },
    {
      "cell_type": "code",
      "source": [
        "plt.subplot(1,2,1)\n",
        "plt.plot(history.history['loss'])\n",
        "plt.xlabel('epoch')\n",
        "plt.ylabel('ECM')\n",
        "plt.title('ECM vs. epochs')\n",
        "\n",
        "y_regr = modelo.predict(x)\n",
        "plt.subplot(1, 2, 2)\n",
        "plt.scatter(x,y)\n",
        "plt.plot(x,y_regr,'r')\n",
        "plt.title('Datos originales y regresión lineal')\n",
        "plt.show()"
      ],
      "metadata": {
        "colab": {
          "base_uri": "https://localhost:8080/",
          "height": 487
        },
        "id": "lNtbmaDWmvuw",
        "outputId": "2c72bd9f-099d-4546-90a7-971a99a85529"
      },
      "execution_count": 49,
      "outputs": [
        {
          "output_type": "error",
          "ename": "NameError",
          "evalue": "ignored",
          "traceback": [
            "\u001b[0;31m---------------------------------------------------------------------------\u001b[0m",
            "\u001b[0;31mNameError\u001b[0m                                 Traceback (most recent call last)",
            "\u001b[0;32m<ipython-input-49-41452cba1d6d>\u001b[0m in \u001b[0;36m<module>\u001b[0;34m\u001b[0m\n\u001b[1;32m      1\u001b[0m \u001b[0mplt\u001b[0m\u001b[0;34m.\u001b[0m\u001b[0msubplot\u001b[0m\u001b[0;34m(\u001b[0m\u001b[0;36m1\u001b[0m\u001b[0;34m,\u001b[0m\u001b[0;36m2\u001b[0m\u001b[0;34m,\u001b[0m\u001b[0;36m1\u001b[0m\u001b[0;34m)\u001b[0m\u001b[0;34m\u001b[0m\u001b[0;34m\u001b[0m\u001b[0m\n\u001b[0;32m----> 2\u001b[0;31m \u001b[0mplt\u001b[0m\u001b[0;34m.\u001b[0m\u001b[0mplot\u001b[0m\u001b[0;34m(\u001b[0m\u001b[0mhistory\u001b[0m\u001b[0;34m[\u001b[0m\u001b[0;34m'loss'\u001b[0m\u001b[0;34m]\u001b[0m\u001b[0;34m)\u001b[0m\u001b[0;34m\u001b[0m\u001b[0;34m\u001b[0m\u001b[0m\n\u001b[0m\u001b[1;32m      3\u001b[0m \u001b[0mplt\u001b[0m\u001b[0;34m.\u001b[0m\u001b[0mxlabel\u001b[0m\u001b[0;34m(\u001b[0m\u001b[0;34m'epoch'\u001b[0m\u001b[0;34m)\u001b[0m\u001b[0;34m\u001b[0m\u001b[0;34m\u001b[0m\u001b[0m\n\u001b[1;32m      4\u001b[0m \u001b[0mplt\u001b[0m\u001b[0;34m.\u001b[0m\u001b[0mylabel\u001b[0m\u001b[0;34m(\u001b[0m\u001b[0;34m'ECM'\u001b[0m\u001b[0;34m)\u001b[0m\u001b[0;34m\u001b[0m\u001b[0;34m\u001b[0m\u001b[0m\n\u001b[1;32m      5\u001b[0m \u001b[0mplt\u001b[0m\u001b[0;34m.\u001b[0m\u001b[0mtitle\u001b[0m\u001b[0;34m(\u001b[0m\u001b[0;34m'ECM vs. epochs'\u001b[0m\u001b[0;34m)\u001b[0m\u001b[0;34m\u001b[0m\u001b[0;34m\u001b[0m\u001b[0m\n",
            "\u001b[0;31mNameError\u001b[0m: name 'history' is not defined"
          ]
        },
        {
          "output_type": "display_data",
          "data": {
            "text/plain": [
              "<Figure size 432x288 with 1 Axes>"
            ],
            "image/png": "[encoded data removed]"
          },
          "metadata": {
            "needs_background": "light"
          }
        }
      ]
    },
    {
      "cell_type": "markdown",
      "source": [
        "Predicción\n",
        "Obtengamos el nivel de presión sanguínea para una persona de 90 años. Para ello usamos el método predict e introducimos la edad como un arreglo Numpy:"
      ],
      "metadata": {
        "id": "vIWXZDxUnLIE"
      }
    },
    {
      "cell_type": "code",
      "source": [
        "x_pred = np.array([90])\n",
        "y_pred = modelo.predict(x_pred)\n",
        "print(\"La presión sanguínea será de {:.1f} mm-Hg\".format(y_pred[0][0]), \" para una persona de {} años\".format(x_pred[0]))"
      ],
      "metadata": {
        "colab": {
          "base_uri": "https://localhost:8080/"
        },
        "id": "r_4Pu5kJnKnG",
        "outputId": "f4740e46-e3d4-409b-9462-071936f25046"
      },
      "execution_count": 50,
      "outputs": [
        {
          "output_type": "stream",
          "name": "stdout",
          "text": [
            "1/1 [==============================] - 0s 40ms/step\n",
            "La presión sanguínea será de 259.0 mm-Hg  para una persona de 90 años\n"
          ]
        }
      ]
    }
  ]
}